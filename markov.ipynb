{
  "nbformat": 4,
  "nbformat_minor": 0,
  "metadata": {
    "kernelspec": {
      "display_name": "Python 3",
      "language": "python",
      "name": "python3"
    },
    "language_info": {
      "codemirror_mode": {
        "name": "ipython",
        "version": 3
      },
      "file_extension": ".py",
      "mimetype": "text/x-python",
      "name": "python",
      "nbconvert_exporter": "python",
      "pygments_lexer": "ipython3",
      "version": "3.7.4"
    },
    "colab": {
      "name": "markov.ipynb",
      "provenance": [],
      "collapsed_sections": [
        "nV5Rc9sJV0XO",
        "Aw-HeqfoV0XS",
        "j3BTq1vyV0XU",
        "rb7uoPBjV0XV",
        "yLbe1YJDV0XW"
      ]
    }
  },
  "cells": [
    {
      "cell_type": "code",
      "metadata": {
        "colab": {
          "base_uri": "https://localhost:8080/"
        },
        "id": "S-da3-3ZYVVu",
        "outputId": "489da49c-3766-40f3-dc06-4226a2e34dec"
      },
      "source": [
        "from google.colab import drive\n",
        "drive.mount('/content/drive')"
      ],
      "execution_count": 1,
      "outputs": [
        {
          "output_type": "stream",
          "name": "stdout",
          "text": [
            "Drive already mounted at /content/drive; to attempt to forcibly remount, call drive.mount(\"/content/drive\", force_remount=True).\n"
          ]
        }
      ]
    },
    {
      "cell_type": "code",
      "metadata": {
        "id": "V-AcH8AW9Ypp"
      },
      "source": [
        "import numpy as np\n",
        "import re\n",
        "import os, shutil"
      ],
      "execution_count": 97,
      "outputs": []
    },
    {
      "cell_type": "code",
      "metadata": {
        "colab": {
          "base_uri": "https://localhost:8080/"
        },
        "id": "BSeyoD1TX9gM",
        "outputId": "8f1da4dc-2a3d-4b18-a21c-e242d9d4f96d"
      },
      "source": [
        "data_list = []\n",
        "regex = re.compile('[^a-zA-Z]')\n",
        "folder = '/content/drive/MyDrive/Study/ML/dataset'\n",
        "\n",
        "total = len(os.listdir(folder))\n",
        "part = total//10\n",
        "count = 0\n",
        "\n",
        "for filename in os.listdir(folder):\n",
        "    file_path = os.path.join(folder, filename)\n",
        "    with open(file_path, 'r') as f:\n",
        "        text = f.read()\n",
        "        text = [regex.sub('', x.lower()).strip() for x in text.split()]\n",
        "        data_list.extend(text)\n",
        "    if count%part==0:\n",
        "      print(f'Process {count*10//part}% of the text')\n",
        "    count+=1\n",
        "dataset =  [x for x in data_list if x != '']"
      ],
      "execution_count": 98,
      "outputs": [
        {
          "output_type": "stream",
          "name": "stdout",
          "text": [
            "Process 0% of the text\n",
            "Process 10% of the text\n",
            "Process 20% of the text\n",
            "Process 30% of the text\n",
            "Process 40% of the text\n",
            "Process 50% of the text\n",
            "Process 60% of the text\n",
            "Process 70% of the text\n",
            "Process 80% of the text\n",
            "Process 90% of the text\n",
            "Process 100% of the text\n"
          ]
        }
      ]
    },
    {
      "cell_type": "code",
      "metadata": {
        "colab": {
          "base_uri": "https://localhost:8080/"
        },
        "id": "adT-aof4Bm1O",
        "outputId": "2cad9a32-2433-4344-aa52-cf403040b248"
      },
      "source": [
        "print('Number of samples:', total)\n",
        "print('Number of words:', len(dataset))"
      ],
      "execution_count": 109,
      "outputs": [
        {
          "output_type": "stream",
          "name": "stdout",
          "text": [
            "Number of samples: 273\n",
            "Number of words: 29127\n"
          ]
        }
      ]
    },
    {
      "cell_type": "code",
      "metadata": {
        "colab": {
          "base_uri": "https://localhost:8080/"
        },
        "id": "rs7SApIeW4AU",
        "outputId": "2a80a7c2-ad4d-43dd-e19a-a6baa3cecc8d"
      },
      "source": [
        "def generateTable(data):\n",
        "    table = {}\n",
        "    for i in range(len(data)-1):\n",
        "        X = data[i]\n",
        "        Y = data[i+1]\n",
        "\n",
        "        if X not in table.keys():\n",
        "            table[X] = {}\n",
        "            table[X][Y] = 1\n",
        "        else:\n",
        "            if Y not in table[X].keys():\n",
        "                table[X][Y] = 1\n",
        "            else:\n",
        "                table[X][Y] += 1\n",
        "    \n",
        "    return table\n",
        "\n",
        "table = generateTable(['dear', 'love', 'i', 'remember', 'you', 'i', 'love', 'you', 'love', 'you'])\n",
        "print(table)"
      ],
      "execution_count": 99,
      "outputs": [
        {
          "output_type": "stream",
          "name": "stdout",
          "text": [
            "{'dear': {'love': 1}, 'love': {'i': 1, 'you': 2}, 'i': {'remember': 1, 'love': 1}, 'remember': {'you': 1}, 'you': {'i': 1, 'love': 1}}\n"
          ]
        }
      ]
    },
    {
      "cell_type": "code",
      "metadata": {
        "colab": {
          "base_uri": "https://localhost:8080/"
        },
        "id": "VeCiWOiIXH95",
        "outputId": "f37f56bd-6935-4147-ce94-8f23a1ff57bb"
      },
      "source": [
        "def convertFreqIntoProb(table):     \n",
        "    for word in table.keys():\n",
        "        s = float(sum(table[word].values()))\n",
        "        for prob in table[word].keys():\n",
        "            table[word][prob] = table[word][prob]/s\n",
        "    return table\n",
        " \n",
        "table = convertFreqIntoProb(table)\n",
        "print(table)"
      ],
      "execution_count": 100,
      "outputs": [
        {
          "output_type": "stream",
          "name": "stdout",
          "text": [
            "{'dear': {'love': 1.0}, 'love': {'i': 0.3333333333333333, 'you': 0.6666666666666666}, 'i': {'remember': 0.5, 'love': 0.5}, 'remember': {'you': 1.0}, 'you': {'i': 0.5, 'love': 0.5}}\n"
          ]
        }
      ]
    },
    {
      "cell_type": "code",
      "metadata": {
        "id": "mIw2L0kNXddt"
      },
      "source": [
        "table = generateTable(dataset)\n",
        "chain = convertFreqIntoProb(table)"
      ],
      "execution_count": 101,
      "outputs": []
    },
    {
      "cell_type": "code",
      "metadata": {
        "id": "xCB-TotkXg6h"
      },
      "source": [
        "def sample_next(word,chain):\n",
        "    if word not in chain.keys():\n",
        "        return \"\\n\"\n",
        "    following_words = list(chain[word].keys())\n",
        "    probs = list(chain[word].values())\n",
        "\n",
        "    mean = np.mean(probs)\n",
        "    best_next = []\n",
        "    for var in following_words:\n",
        "        if chain[word][var] > mean:\n",
        "            best_next.append(var)\n",
        "\n",
        "    if len(best_next) == 0:\n",
        "        best_next = following_words\n",
        "    \n",
        "    return np.random.choice(best_next)\n",
        " "
      ],
      "execution_count": 102,
      "outputs": []
    },
    {
      "cell_type": "code",
      "metadata": {
        "id": "yWjVIj4iXkTC"
      },
      "source": [
        "def generateText(first_word, chain, maxLen=100):\n",
        "\n",
        "    sentence = [first_word]\n",
        "    target_word = first_word\n",
        "    \n",
        "    for i in range(maxLen):\n",
        "        next_prediction = sample_next(target_word,chain)\n",
        "        sentence.append(next_prediction)\n",
        "        target_word = sentence[-1]\n",
        "        if target_word == '\\n':\n",
        "            break\n",
        "\n",
        "    return ' '.join(sentence)"
      ],
      "execution_count": 104,
      "outputs": []
    },
    {
      "cell_type": "code",
      "metadata": {
        "colab": {
          "base_uri": "https://localhost:8080/"
        },
        "id": "HsMaq8ve9sK0",
        "outputId": "2a5676d5-1b4a-47b4-d789-8bab3de138ed"
      },
      "source": [
        "text = generateText(\"dear\",chain,maxLen=50)\n",
        "print(text)"
      ],
      "execution_count": 106,
      "outputs": [
        {
          "output_type": "stream",
          "name": "stdout",
          "text": [
            "dear little interest as soon as we will not think about me no more than that was until every now that has lived within me that our separation gives me all your head upon my joy regardless of his misshapen and to you have in one can replace you smile i\n"
          ]
        }
      ]
    }
  ]
}