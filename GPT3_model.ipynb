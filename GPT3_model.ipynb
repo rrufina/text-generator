{
 "cells": [
  {
   "cell_type": "code",
   "execution_count": 1,
   "metadata": {
    "collapsed": true
   },
   "outputs": [
    {
     "name": "stderr",
     "output_type": "stream",
     "text": [
      "2021-10-30 18:39:30.659744: W tensorflow/stream_executor/platform/default/dso_loader.cc:64] Could not load dynamic library 'libcudart.so.11.0'; dlerror: libcudart.so.11.0: cannot open shared object file: No such file or directory\n",
      "2021-10-30 18:39:30.659770: I tensorflow/stream_executor/cuda/cudart_stub.cc:29] Ignore above cudart dlerror if you do not have a GPU set up on your machine.\n"
     ]
    }
   ],
   "source": [
    "import numpy\n",
    "import sys\n",
    "from nltk.tokenize import RegexpTokenizer\n",
    "from nltk.corpus import stopwords\n",
    "from keras.models import Sequential\n",
    "from keras.layers import Dense, Dropout, LSTM\n",
    "from keras.utils import np_utils\n",
    "from keras.callbacks import ModelCheckpoint\n",
    "\n",
    "import torch\n",
    "import torch.nn as nn\n",
    "import torch.optim as optim\n",
    "from torch.optim import lr_scheduler\n",
    "from torch.utils.data import Dataset, DataLoader, RandomSampler\n",
    "from torch.nn import functional as F\n",
    "\n",
    "from sklearn.model_selection import train_test_split\n",
    "\n",
    "from transformers import GPT2Tokenizer, GPT2LMHeadModel, GPT2Config\n",
    "from transformers import AdamW, get_linear_schedule_with_warmup\n",
    "import nltk"
   ]
  },
  {
   "cell_type": "code",
   "execution_count": 2,
   "outputs": [],
   "source": [
    "import os\n",
    "\n",
    "data_list = []\n",
    "folder = 'dataset/'\n",
    "for filename in os.listdir(folder):\n",
    "    file_path = os.path.join(folder, filename)\n",
    "    with open(file_path, 'r') as f:\n",
    "        text = f.read()\n",
    "        data_list.append(text)"
   ],
   "metadata": {
    "collapsed": false,
    "pycharm": {
     "name": "#%%\n"
    }
   }
  },
  {
   "cell_type": "code",
   "execution_count": 3,
   "outputs": [
    {
     "data": {
      "text/plain": "device(type='cuda')"
     },
     "execution_count": 3,
     "metadata": {},
     "output_type": "execute_result"
    }
   ],
   "source": [
    "device = torch.device(\"cuda\" if torch.cuda.is_available() else \"cpu\")\n",
    "device"
   ],
   "metadata": {
    "collapsed": false,
    "pycharm": {
     "name": "#%%\n"
    }
   }
  },
  {
   "cell_type": "code",
   "execution_count": 4,
   "outputs": [
    {
     "name": "stderr",
     "output_type": "stream",
     "text": [
      "Special tokens have been added in the vocabulary, make sure the associated word embeddings are fine-tuned or trained.\n"
     ]
    }
   ],
   "source": [
    "tokenizer = GPT2Tokenizer.from_pretrained('gpt2', bos_token='<SOS>', eos_token='<EOS>')\n",
    "tokenizer.pad_token = tokenizer.eos_token"
   ],
   "metadata": {
    "collapsed": false,
    "pycharm": {
     "name": "#%%\n"
    }
   }
  },
  {
   "cell_type": "code",
   "execution_count": 5,
   "outputs": [],
   "source": [
    "max_length = 100\n",
    "\n",
    "class ComplDataset(Dataset):\n",
    "    def __init__(self, compl, tokenizer, max_length):\n",
    "\n",
    "        self.compl = compl\n",
    "        self.ids = []\n",
    "        self.masks = []\n",
    "\n",
    "        for sent in data_list:\n",
    "            encod_dic = tokenizer('<SOS> ' + sent + ' <EOS>', truncation=True, max_length=max_length, padding='max_length')\n",
    "            self.ids.append(torch.tensor(encod_dic['input_ids']))\n",
    "            self.masks.append(torch.tensor(encod_dic['attention_mask']))\n",
    "\n",
    "    def __len__(self):\n",
    "        return len(self.ids)\n",
    "\n",
    "    def __getitem__(self, idx):\n",
    "        return self.ids[idx], self.masks[idx]"
   ],
   "metadata": {
    "collapsed": false,
    "pycharm": {
     "name": "#%%\n"
    }
   }
  },
  {
   "cell_type": "code",
   "execution_count": 6,
   "outputs": [],
   "source": [
    "dataset = ComplDataset(data_list,tokenizer,max_length)"
   ],
   "metadata": {
    "collapsed": false,
    "pycharm": {
     "name": "#%%\n"
    }
   }
  },
  {
   "cell_type": "code",
   "execution_count": 7,
   "outputs": [],
   "source": [
    "import numpy as np\n",
    "\n",
    "train_ids, valid_ids = train_test_split(\n",
    "    np.arange(len(dataset)),\n",
    "    test_size=0.1,\n",
    "    shuffle=True)"
   ],
   "metadata": {
    "collapsed": false,
    "pycharm": {
     "name": "#%%\n"
    }
   }
  },
  {
   "cell_type": "code",
   "execution_count": 8,
   "outputs": [],
   "source": [
    "train_sampler = torch.utils.data.SubsetRandomSampler(train_ids)\n",
    "valid_sampler = torch.utils.data.SubsetRandomSampler(valid_ids)\n",
    "\n",
    "dataloaders = {'train': torch.utils.data.DataLoader(dataset, batch_size=2, sampler=train_sampler),\n",
    "'val': torch.utils.data.DataLoader(dataset, batch_size=1,sampler=valid_sampler)}\n",
    "\n",
    "dataset_sizes = {'train': len(train_ids), 'val': len(valid_ids)}"
   ],
   "metadata": {
    "collapsed": false,
    "pycharm": {
     "name": "#%%\n"
    }
   }
  },
  {
   "cell_type": "code",
   "execution_count": 9,
   "outputs": [],
   "source": [
    "# Used documentation: https://huggingface.co/transformers/model_doc/gpt2.html\n",
    "configuration = GPT2Config.from_pretrained('gpt2', output_hidden_states=False)\n",
    "model = GPT2LMHeadModel.from_pretrained('gpt2', config=configuration)\n",
    "model.resize_token_embeddings(len(tokenizer))\n",
    "model = model.to(device)\n",
    "model.train()\n",
    "\n",
    "optimizer = AdamW(model.parameters(), lr=5e-4, eps=1e-8)\n",
    "scheduler = get_linear_schedule_with_warmup(optimizer, num_warmup_steps=10000, num_training_steps = -1)"
   ],
   "metadata": {
    "collapsed": false,
    "pycharm": {
     "name": "#%%\n"
    }
   }
  },
  {
   "cell_type": "code",
   "execution_count": 11,
   "outputs": [
    {
     "name": "stderr",
     "output_type": "stream",
     "text": [
      "100%|██████████| 123/123 [00:43<00:00,  2.84it/s]\n",
      "100%|██████████| 28/28 [00:01<00:00, 25.58it/s]\n"
     ]
    },
    {
     "name": "stdout",
     "output_type": "stream",
     "text": [
      "Average train loss: 5.19830058454498\n",
      "Average val loss: 4.810767412185669\n"
     ]
    },
    {
     "name": "stderr",
     "output_type": "stream",
     "text": [
      "100%|██████████| 123/123 [00:43<00:00,  2.84it/s]\n",
      "100%|██████████| 28/28 [00:01<00:00, 24.89it/s]\n"
     ]
    },
    {
     "name": "stdout",
     "output_type": "stream",
     "text": [
      "Average train loss: 4.673725753295712\n",
      "Average val loss: 4.397540824753897\n"
     ]
    },
    {
     "name": "stderr",
     "output_type": "stream",
     "text": [
      "100%|██████████| 123/123 [00:40<00:00,  3.04it/s]\n",
      "100%|██████████| 28/28 [00:00<00:00, 29.63it/s]\n"
     ]
    },
    {
     "name": "stdout",
     "output_type": "stream",
     "text": [
      "Average train loss: 4.598887606364925\n",
      "Average val loss: 4.66388002889497\n"
     ]
    }
   ],
   "source": [
    "from tqdm import tqdm\n",
    "\n",
    "import gc\n",
    "\n",
    "for epoch in range(3):\n",
    "    epoch_loss_train = 0\n",
    "    model.train()\n",
    "    for i, batch in enumerate(tqdm(dataloaders['train'])):\n",
    "        input_ids = batch[0].to(device)\n",
    "        labels = batch[0].to(device)\n",
    "        masks = batch[1].to(device)\n",
    "\n",
    "        outputs = model(input_ids, labels=labels, attention_mask=masks)\n",
    "\n",
    "        loss = outputs[0]\n",
    "\n",
    "        batch_loss = loss.item()\n",
    "        epoch_loss_train += batch_loss\n",
    "\n",
    "        loss.backward()\n",
    "        optimizer.step()\n",
    "        scheduler.step()\n",
    "\n",
    "    model.eval()\n",
    "    epoch_loss_val = 0\n",
    "\n",
    "    for batch in tqdm(dataloaders['val']):\n",
    "        input_ids = batch[0].to(device)\n",
    "        labels = batch[0].to(device)\n",
    "        masks = batch[1].to(device)\n",
    "\n",
    "\n",
    "        outputs = model(input_ids, labels=labels, attention_mask=masks)\n",
    "        loss = outputs[0]\n",
    "\n",
    "        batch_loss = loss.item()\n",
    "        epoch_loss_val += batch_loss\n",
    "\n",
    "    print('Average train loss: {}'.format(epoch_loss_train/len(dataloaders['train'])))\n",
    "    print('Average val loss: {}'.format(epoch_loss_val/len(dataloaders['val'])))\n",
    "    torch.save(model.state_dict(), 'models/GPT2.h5')"
   ],
   "metadata": {
    "collapsed": false,
    "pycharm": {
     "name": "#%%\n"
    }
   }
  },
  {
   "cell_type": "code",
   "execution_count": null,
   "outputs": [],
   "source": [],
   "metadata": {
    "collapsed": false,
    "pycharm": {
     "name": "#%%\n"
    }
   }
  }
 ],
 "metadata": {
  "kernelspec": {
   "display_name": "Python 3",
   "language": "python",
   "name": "python3"
  },
  "language_info": {
   "codemirror_mode": {
    "name": "ipython",
    "version": 2
   },
   "file_extension": ".py",
   "mimetype": "text/x-python",
   "name": "python",
   "nbconvert_exporter": "python",
   "pygments_lexer": "ipython2",
   "version": "2.7.6"
  }
 },
 "nbformat": 4,
 "nbformat_minor": 0
}