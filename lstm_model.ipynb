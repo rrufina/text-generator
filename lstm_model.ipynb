{
  "nbformat": 4,
  "nbformat_minor": 0,
  "metadata": {
    "accelerator": "GPU",
    "colab": {
      "name": "Copy of pmldl-project.ipynb",
      "provenance": [],
      "collapsed_sections": []
    },
    "kernelspec": {
      "display_name": "Python 3",
      "name": "python3"
    },
    "language_info": {
      "name": "python"
    }
  },
  "cells": [
    {
      "cell_type": "code",
      "metadata": {
        "colab": {
          "base_uri": "https://localhost:8080/"
        },
        "id": "SDGnQ_OPzlUI",
        "outputId": "bb222fda-6389-4099-f722-93124e2474e0"
      },
      "source": [
        "import numpy as np\n",
        "import sys\n",
        "import os\n",
        "import time\n",
        "import re\n",
        "from collections import Counter, OrderedDict\n",
        "from tqdm import tqdm\n",
        "\n",
        "from nltk.tokenize import word_tokenize\n",
        "from nltk.corpus import stopwords\n",
        "import tensorflow as tf\n",
        "\n",
        "import nltk\n",
        "nltk.download('stopwords')\n",
        "nltk.download('punkt')\n",
        "from nltk.tokenize import RegexpTokenizer\n",
        "\n",
        "\n",
        "import torchtext\n",
        "from torchtext.data import get_tokenizer\n",
        "from torchtext.vocab import vocab\n",
        "from torchtext.data.functional import to_map_style_dataset\n",
        "\n",
        "import torch\n",
        "import torch.nn as nn\n",
        "from torch.utils.data import Dataset, DataLoader, TensorDataset\n",
        "from torch.utils.data.dataset import random_split\n",
        "from torch.optim.lr_scheduler import StepLR"
      ],
      "execution_count": 1,
      "outputs": [
        {
          "output_type": "stream",
          "name": "stdout",
          "text": [
            "[nltk_data] Downloading package stopwords to /root/nltk_data...\n",
            "[nltk_data]   Package stopwords is already up-to-date!\n",
            "[nltk_data] Downloading package punkt to /root/nltk_data...\n",
            "[nltk_data]   Package punkt is already up-to-date!\n"
          ]
        }
      ]
    },
    {
      "cell_type": "code",
      "metadata": {
        "id": "tKDjrxbkz1Cs"
      },
      "source": [
        "import os, shutil\n",
        "data_list = []\n",
        "folder = '/content/drive/MyDrive/Study/ML/dataset'\n",
        "for filename in os.listdir(folder):\n",
        "    file_path = os.path.join(folder, filename)\n",
        "    with open(file_path, 'r') as f:\n",
        "        text = f.read()\n",
        "        #text = \" \".join([x.lower() for x in re.split('\\s+', text)])\n",
        "        data_list.append(text.lower())\n",
        "data = \" \".join(data_list)\n",
        "text = re.sub('\\n', ' ', data)"
      ],
      "execution_count": 2,
      "outputs": []
    },
    {
      "cell_type": "code",
      "metadata": {
        "id": "05bc9E_3Ww3e"
      },
      "source": [
        "tokenizer = RegexpTokenizer(r'\\w+')\n",
        "tokens = tokenizer.tokenize(text)\n",
        "counter = Counter(tokens)\n",
        "sorted_by_freq_tuples = sorted(counter.items(), key=lambda x: x[1], reverse=True)\n",
        "ordered_dict = OrderedDict(sorted_by_freq_tuples)\n",
        "vocabulary = vocab(ordered_dict)\n",
        "unk_token = '<unk>'\n",
        "vocabulary.insert_token(unk_token, 0)\n",
        "vocabulary.set_default_index(0)"
      ],
      "execution_count": 3,
      "outputs": []
    },
    {
      "cell_type": "code",
      "metadata": {
        "colab": {
          "base_uri": "https://localhost:8080/"
        },
        "id": "ANHgBzZWUhZG",
        "outputId": "28d80b65-ce22-4b0e-f6f9-abf10c963b01"
      },
      "source": [
        "print(len(text.split()))\n",
        "print(len(tokens))"
      ],
      "execution_count": 4,
      "outputs": [
        {
          "output_type": "stream",
          "name": "stdout",
          "text": [
            "29438\n",
            "29479\n"
          ]
        }
      ]
    },
    {
      "cell_type": "code",
      "metadata": {
        "id": "kxwF72Yg2HsB",
        "colab": {
          "base_uri": "https://localhost:8080/"
        },
        "outputId": "defecf35-e801-43de-b5ba-39a68657e9e7"
      },
      "source": [
        "print(text[:250])\n",
        "print(tokens[:10])"
      ],
      "execution_count": 5,
      "outputs": [
        {
          "output_type": "stream",
          "name": "stdout",
          "text": [
            "my dearest girl, i have been a walk this morning with a book in my hand, but as usual i have been occupied with nothing but you: i wish i could  say in an agreeable manner. i am tormented day and night. they talk of my going to italy. ‘tis certain i \n",
            "['my', 'dearest', 'girl', 'i', 'have', 'been', 'a', 'walk', 'this', 'morning']\n"
          ]
        }
      ]
    },
    {
      "cell_type": "code",
      "metadata": {
        "colab": {
          "base_uri": "https://localhost:8080/"
        },
        "id": "FefK4qDPfQhd",
        "outputId": "8e7741c9-e2e8-47b4-c33b-a9f48d564c39"
      },
      "source": [
        "len(vocabulary)"
      ],
      "execution_count": 6,
      "outputs": [
        {
          "output_type": "execute_result",
          "data": {
            "text/plain": [
              "3652"
            ]
          },
          "metadata": {},
          "execution_count": 6
        }
      ]
    },
    {
      "cell_type": "code",
      "metadata": {
        "id": "zUDKqhT-gty4"
      },
      "source": [
        "# Reference:\n",
        "# \"https://towardsdatascience.com/multiclass-text-classification-using-lstm-in-pytorch-eac56baed8df\"\n",
        "\n",
        "glove_path = '/content/drive/MyDrive/Study/ML/glove.6B.100d.txt'\n",
        "\n",
        "# read GloVe data\n",
        "def load_glove_vectors(glove_file):\n",
        "    word_vectors = {}\n",
        "    with open(glove_file) as f:\n",
        "        for line in f:\n",
        "            split = line.split()\n",
        "            word_vectors[split[0]] = np.array([float(x) for x in split[1:]])\n",
        "    return word_vectors\n",
        "\n",
        "# create embedding matrix\n",
        "def get_emb_matrix(pretrained, vocab, emb_size = 100):\n",
        "    vocab_size = len(vocab)\n",
        "    W = np.zeros((vocab_size, emb_size), dtype=\"float32\")\n",
        "    for word in vocab.get_itos():\n",
        "        if word in pretrained:\n",
        "            W[vocab[word]] = pretrained[word]\n",
        "        else:\n",
        "            W[vocab[word]] = np.random.uniform(-0.25,0.25, emb_size)  \n",
        "    return W\n",
        "\n",
        "word_vecs = load_glove_vectors(glove_path)\n",
        "pretrained_weights = get_emb_matrix(word_vecs, vocabulary)"
      ],
      "execution_count": 7,
      "outputs": []
    },
    {
      "cell_type": "code",
      "metadata": {
        "id": "Cqf76OP6Ww0b"
      },
      "source": [
        "def create_dataset(text_list, max_len=400):\n",
        "    labels, texts = [], []\n",
        "    for i in range(len(text_list)-3):\n",
        "        w1 = vocabulary[text_list[i]]\n",
        "        w2 = vocabulary[text_list[i+1]]\n",
        "        w3 = vocabulary[text_list[i+2]]\n",
        "        w4 = vocabulary[text_list[i+3]]\n",
        "        texts.append([w1, w2, w3])\n",
        "        labels.append(w4)\n",
        "    return TensorDataset(torch.from_numpy(np.array(texts)), torch.from_numpy(np.array(labels)))"
      ],
      "execution_count": 8,
      "outputs": []
    },
    {
      "cell_type": "code",
      "metadata": {
        "id": "tM5L8AKZWwxi"
      },
      "source": [
        "train_split = int(len(tokens)*0.8)\n",
        "test_split = len(tokens)-train_split\n",
        "train_dataset = create_dataset(tokens[:train_split])\n",
        "test_dataset = create_dataset(tokens[-test_split:])"
      ],
      "execution_count": 9,
      "outputs": []
    },
    {
      "cell_type": "code",
      "metadata": {
        "colab": {
          "base_uri": "https://localhost:8080/"
        },
        "id": "UefmpVuekhp7",
        "outputId": "a705b0fc-5351-4fd9-c646-ab263f5c93a4"
      },
      "source": [
        "print(len(train_dataset))"
      ],
      "execution_count": 10,
      "outputs": [
        {
          "output_type": "stream",
          "name": "stdout",
          "text": [
            "23580\n"
          ]
        }
      ]
    },
    {
      "cell_type": "code",
      "metadata": {
        "id": "cZQxd7_IWwt2"
      },
      "source": [
        "BATCH_SIZE = 150\n",
        "train_loader = DataLoader(train_dataset, batch_size=BATCH_SIZE, shuffle=True)\n",
        "valid_loader = DataLoader(test_dataset, batch_size=BATCH_SIZE, shuffle=True)"
      ],
      "execution_count": 36,
      "outputs": []
    },
    {
      "cell_type": "code",
      "metadata": {
        "id": "bTBQKQD_06pA"
      },
      "source": [
        "class LSTM_Glove(nn.Module):\n",
        "    ''' LSTM model with GloVe embeddings'''\n",
        "\n",
        "    def __init__(self, vocab_size, embedding_dim, hidden_dim, no_layers, glove_weights):\n",
        "        super().__init__()\n",
        "\n",
        "        self.embedding = nn.Embedding.from_pretrained(torch.FloatTensor(glove_weights), padding_idx=0, freeze=False)\n",
        "        self.lstm = nn.LSTM(embedding_dim, hidden_dim, no_layers, batch_first=True)\n",
        "        self.linear1 = nn.Linear(hidden_dim, hidden_dim)\n",
        "        self.linear2 = nn.Linear(hidden_dim, vocab_size)\n",
        "        self.relu = nn.ReLU()\n",
        "        self.dropout = nn.Dropout(0.2)\n",
        "        self.softmax = nn.Softmax()\n",
        "\n",
        "    def forward(self, x):\n",
        "        x = self.embedding(x)\n",
        "        x = self.dropout(x)\n",
        "        x, (ht, ct) = self.lstm(x)\n",
        "        x = self.linear2(ht[-1])\n",
        "        #x = self.relu(x)\n",
        "        #x = self.linear2(x)\n",
        "        x = self.softmax(x)\n",
        "        return x"
      ],
      "execution_count": 65,
      "outputs": []
    },
    {
      "cell_type": "code",
      "metadata": {
        "id": "or0zWVuul_AQ"
      },
      "source": [
        "def acc(prediction, label):\n",
        "    pred = torch.argmax(prediction, dim=1)\n",
        "    return torch.sum(pred == label.squeeze()).item()"
      ],
      "execution_count": 38,
      "outputs": []
    },
    {
      "cell_type": "code",
      "metadata": {
        "id": "wNZRY2aDWwoU"
      },
      "source": [
        "def train_step(model, loader, loss_fn, optimizer, device):\n",
        "    ''' Calculate loss and accuracy for one epoch'''\n",
        "    train_losses = []\n",
        "    total_acc, total_count = 0, 0\n",
        "    for batch_idx, (text, label) in enumerate(loader):\n",
        "\n",
        "        text = text.to(device)\n",
        "        label = label.to(device)\n",
        "\n",
        "        prediction = model(text)\n",
        "\n",
        "        loss_value = loss_fn(prediction, label)\n",
        "        loss_value.backward()\n",
        "        train_losses.append(loss_value.item())\n",
        "        \n",
        "        optimizer.step()\n",
        "        optimizer.zero_grad()\n",
        "        total_acc += acc(prediction, label)\n",
        "        total_count += label.size(0)\n",
        "  \n",
        "    return np.mean(train_losses), total_acc/total_count"
      ],
      "execution_count": 39,
      "outputs": []
    },
    {
      "cell_type": "code",
      "metadata": {
        "id": "PWxVNyXWWwlr"
      },
      "source": [
        "def val_step(model, loader, device):\n",
        "    ''' Calculate accuracy for one epoch'''\n",
        "    total_acc, total_count = 0, 0\n",
        "    with torch.no_grad():\n",
        "      y_pred, y_true = [], []\n",
        "      for batch_idx, (text, label) in enumerate(loader):          \n",
        "          text = text.to(device) \n",
        "          label = label.to(device)\n",
        "          prediction = model(text)\n",
        "          total_acc += acc(prediction, label)\n",
        "          total_count += label.size(0)\n",
        "    return total_acc/total_count"
      ],
      "execution_count": 15,
      "outputs": []
    },
    {
      "cell_type": "code",
      "metadata": {
        "id": "P_lryetpWwih"
      },
      "source": [
        "device = torch.device(\"cuda:0\" if torch.cuda.is_available() else \"cpu\")"
      ],
      "execution_count": 16,
      "outputs": []
    },
    {
      "cell_type": "code",
      "metadata": {
        "id": "I6wUDz8gWwe8"
      },
      "source": [
        "# define parameters\n",
        "VOCAB_SIZE = len(vocabulary)\n",
        "NO_LAYERS = 1\n",
        "EMBED_DIM = 100\n",
        "HIDDEN_DIM_1 = 70\n",
        "HIDDEN_DIM_2 = 50\n",
        "EPOCHS = 20"
      ],
      "execution_count": 66,
      "outputs": []
    },
    {
      "cell_type": "code",
      "metadata": {
        "id": "S4RLGCsxWwbw"
      },
      "source": [
        "# initialize a model with trainable embeddings\n",
        "model_emb = LSTM_Glove(VOCAB_SIZE, EMBED_DIM, HIDDEN_DIM_1, NO_LAYERS, pretrained_weights).to(device)\n",
        "lr=0.005\n",
        "criterion = nn.CrossEntropyLoss()\n",
        "optimizer = torch.optim.Adam(model_emb.parameters(), lr=lr)\n",
        "scheduler = StepLR(optimizer, step_size=50, gamma=0.5)"
      ],
      "execution_count": 73,
      "outputs": []
    },
    {
      "cell_type": "code",
      "metadata": {
        "id": "sXeI1SUJWwWc",
        "colab": {
          "base_uri": "https://localhost:8080/"
        },
        "outputId": "00827361-4935-4d79-feec-0eb9c4f817ac"
      },
      "source": [
        "# train with training data and validate with validation data\n",
        "EPOCHS = 300\n",
        "for epoch in tqdm(range(EPOCHS)):\n",
        "    model_emb.train()\n",
        "    train_loss, train_acc = train_step(model_emb, train_loader, criterion, optimizer, device)\n",
        "    print(f\"Epochs = {epoch}, Training Loss : {train_loss}; Training Accuracy: {train_acc}.\")\n",
        "    model_emb.eval()\n",
        "    val_acc = val_step(model_emb, valid_loader, device)\n",
        "    print(f\"Epochs = {epoch}, Validation Accuracy : {val_acc}\")\n",
        "    #scheduler.step()"
      ],
      "execution_count": 74,
      "outputs": [
        {
          "output_type": "stream",
          "name": "stderr",
          "text": [
            "  0%|          | 0/300 [00:00<?, ?it/s]/usr/local/lib/python3.7/dist-packages/ipykernel_launcher.py:22: UserWarning: Implicit dimension choice for softmax has been deprecated. Change the call to include dim=X as an argument.\n",
            "  0%|          | 1/300 [00:00<03:29,  1.43it/s]"
          ]
        },
        {
          "output_type": "stream",
          "name": "stdout",
          "text": [
            "Epochs = 0, Training Loss : 8.16157250464717; Training Accuracy: 0.046055979643765906.\n",
            "Epochs = 0, Validation Accuracy : 0.06159850670286781\n"
          ]
        },
        {
          "output_type": "stream",
          "name": "stderr",
          "text": [
            "\r  1%|          | 2/300 [00:01<03:36,  1.38it/s]"
          ]
        },
        {
          "output_type": "stream",
          "name": "stdout",
          "text": [
            "Epochs = 1, Training Loss : 8.155993678901769; Training Accuracy: 0.04775233248515691.\n",
            "Epochs = 1, Validation Accuracy : 0.06159850670286781\n"
          ]
        },
        {
          "output_type": "stream",
          "name": "stderr",
          "text": [
            "\r  1%|          | 3/300 [00:02<03:33,  1.39it/s]"
          ]
        },
        {
          "output_type": "stream",
          "name": "stdout",
          "text": [
            "Epochs = 2, Training Loss : 8.155992266498034; Training Accuracy: 0.04775233248515691.\n",
            "Epochs = 2, Validation Accuracy : 0.06159850670286781\n"
          ]
        },
        {
          "output_type": "stream",
          "name": "stderr",
          "text": [
            "\r  1%|▏         | 4/300 [00:02<03:35,  1.38it/s]"
          ]
        },
        {
          "output_type": "stream",
          "name": "stdout",
          "text": [
            "Epochs = 3, Training Loss : 8.155653706079796; Training Accuracy: 0.04775233248515691.\n",
            "Epochs = 3, Validation Accuracy : 0.06159850670286781\n"
          ]
        },
        {
          "output_type": "stream",
          "name": "stderr",
          "text": [
            "\r  2%|▏         | 5/300 [00:03<03:34,  1.37it/s]"
          ]
        },
        {
          "output_type": "stream",
          "name": "stdout",
          "text": [
            "Epochs = 4, Training Loss : 8.155651237391218; Training Accuracy: 0.047794741306191685.\n",
            "Epochs = 4, Validation Accuracy : 0.06159850670286781\n"
          ]
        },
        {
          "output_type": "stream",
          "name": "stderr",
          "text": [
            "\r  2%|▏         | 6/300 [00:04<03:35,  1.37it/s]"
          ]
        },
        {
          "output_type": "stream",
          "name": "stdout",
          "text": [
            "Epochs = 5, Training Loss : 8.155647350262992; Training Accuracy: 0.04783715012722646.\n",
            "Epochs = 5, Validation Accuracy : 0.06159850670286781\n"
          ]
        },
        {
          "output_type": "stream",
          "name": "stderr",
          "text": [
            "\r  2%|▏         | 7/300 [00:05<03:36,  1.35it/s]"
          ]
        },
        {
          "output_type": "stream",
          "name": "stdout",
          "text": [
            "Epochs = 6, Training Loss : 8.14514000204545; Training Accuracy: 0.0590754877014419.\n",
            "Epochs = 6, Validation Accuracy : 0.10368233497369761\n"
          ]
        },
        {
          "output_type": "stream",
          "name": "stderr",
          "text": [
            "\r  3%|▎         | 8/300 [00:05<03:34,  1.36it/s]"
          ]
        },
        {
          "output_type": "stream",
          "name": "stdout",
          "text": [
            "Epochs = 7, Training Loss : 8.130531431753424; Training Accuracy: 0.0731128074639525.\n",
            "Epochs = 7, Validation Accuracy : 0.10385202782962838\n"
          ]
        },
        {
          "output_type": "stream",
          "name": "stderr",
          "text": [
            "\r  3%|▎         | 9/300 [00:06<03:33,  1.36it/s]"
          ]
        },
        {
          "output_type": "stream",
          "name": "stdout",
          "text": [
            "Epochs = 8, Training Loss : 8.12723412091219; Training Accuracy: 0.07701441899915182.\n",
            "Epochs = 8, Validation Accuracy : 0.10147632784659766\n"
          ]
        },
        {
          "output_type": "stream",
          "name": "stderr",
          "text": [
            "\r  3%|▎         | 10/300 [00:07<03:31,  1.37it/s]"
          ]
        },
        {
          "output_type": "stream",
          "name": "stdout",
          "text": [
            "Epochs = 9, Training Loss : 8.118853243091438; Training Accuracy: 0.0859626802374894.\n",
            "Epochs = 9, Validation Accuracy : 0.10996097064313592\n"
          ]
        },
        {
          "output_type": "stream",
          "name": "stderr",
          "text": [
            "\r  4%|▎         | 11/300 [00:08<03:29,  1.38it/s]"
          ]
        },
        {
          "output_type": "stream",
          "name": "stdout",
          "text": [
            "Epochs = 10, Training Loss : 8.104554719562772; Training Accuracy: 0.09995759117896523.\n",
            "Epochs = 10, Validation Accuracy : 0.11165789920244358\n"
          ]
        },
        {
          "output_type": "stream",
          "name": "stderr",
          "text": [
            "\r  4%|▍         | 12/300 [00:08<03:29,  1.37it/s]"
          ]
        },
        {
          "output_type": "stream",
          "name": "stdout",
          "text": [
            "Epochs = 11, Training Loss : 8.095415670660477; Training Accuracy: 0.10966921119592875.\n",
            "Epochs = 11, Validation Accuracy : 0.11488206346512812\n"
          ]
        },
        {
          "output_type": "stream",
          "name": "stderr",
          "text": [
            "\r  4%|▍         | 13/300 [00:09<03:28,  1.38it/s]"
          ]
        },
        {
          "output_type": "stream",
          "name": "stdout",
          "text": [
            "Epochs = 12, Training Loss : 8.087491584729545; Training Accuracy: 0.11734520780322306.\n",
            "Epochs = 12, Validation Accuracy : 0.11590022060071271\n"
          ]
        },
        {
          "output_type": "stream",
          "name": "stderr",
          "text": [
            "\r  5%|▍         | 14/300 [00:10<03:27,  1.38it/s]"
          ]
        },
        {
          "output_type": "stream",
          "name": "stdout",
          "text": [
            "Epochs = 13, Training Loss : 8.078399857388266; Training Accuracy: 0.1268871925360475.\n",
            "Epochs = 13, Validation Accuracy : 0.11929407771932801\n"
          ]
        },
        {
          "output_type": "stream",
          "name": "stderr",
          "text": [
            "\r  5%|▌         | 15/300 [00:10<03:26,  1.38it/s]"
          ]
        },
        {
          "output_type": "stream",
          "name": "stdout",
          "text": [
            "Epochs = 14, Training Loss : 8.070455934427962; Training Accuracy: 0.13498727735368957.\n",
            "Epochs = 14, Validation Accuracy : 0.1267605633802817\n"
          ]
        },
        {
          "output_type": "stream",
          "name": "stderr",
          "text": [
            "\r  5%|▌         | 16/300 [00:11<03:25,  1.38it/s]"
          ]
        },
        {
          "output_type": "stream",
          "name": "stdout",
          "text": [
            "Epochs = 15, Training Loss : 8.06486959698834; Training Accuracy: 0.14033078880407124.\n",
            "Epochs = 15, Validation Accuracy : 0.12438486339725098\n"
          ]
        },
        {
          "output_type": "stream",
          "name": "stderr",
          "text": [
            "\r  6%|▌         | 17/300 [00:12<03:22,  1.39it/s]"
          ]
        },
        {
          "output_type": "stream",
          "name": "stdout",
          "text": [
            "Epochs = 16, Training Loss : 8.061805628523041; Training Accuracy: 0.1439779474130619.\n",
            "Epochs = 16, Validation Accuracy : 0.12998472764296623\n"
          ]
        },
        {
          "output_type": "stream",
          "name": "stderr",
          "text": [
            "\r  6%|▌         | 18/300 [00:13<03:23,  1.39it/s]"
          ]
        },
        {
          "output_type": "stream",
          "name": "stdout",
          "text": [
            "Epochs = 17, Training Loss : 8.057454661477971; Training Accuracy: 0.14741306191687872.\n",
            "Epochs = 17, Validation Accuracy : 0.1311725776344816\n"
          ]
        },
        {
          "output_type": "stream",
          "name": "stderr",
          "text": [
            "\r  6%|▋         | 19/300 [00:13<03:23,  1.38it/s]"
          ]
        },
        {
          "output_type": "stream",
          "name": "stdout",
          "text": [
            "Epochs = 18, Training Loss : 8.054480133177359; Training Accuracy: 0.15199321458863443.\n",
            "Epochs = 18, Validation Accuracy : 0.1286271847955201\n"
          ]
        },
        {
          "output_type": "stream",
          "name": "stderr",
          "text": [
            "\r  7%|▋         | 20/300 [00:14<03:23,  1.38it/s]"
          ]
        },
        {
          "output_type": "stream",
          "name": "stdout",
          "text": [
            "Epochs = 19, Training Loss : 8.050850952727885; Training Accuracy: 0.15491942324003394.\n",
            "Epochs = 19, Validation Accuracy : 0.12896657050738164\n"
          ]
        },
        {
          "output_type": "stream",
          "name": "stderr",
          "text": [
            "\r  7%|▋         | 21/300 [00:15<03:22,  1.38it/s]"
          ]
        },
        {
          "output_type": "stream",
          "name": "stdout",
          "text": [
            "Epochs = 20, Training Loss : 8.048304310327843; Training Accuracy: 0.1568702290076336.\n",
            "Epochs = 20, Validation Accuracy : 0.12998472764296623\n"
          ]
        },
        {
          "output_type": "stream",
          "name": "stderr",
          "text": [
            "\r  7%|▋         | 22/300 [00:16<03:25,  1.36it/s]"
          ]
        },
        {
          "output_type": "stream",
          "name": "stdout",
          "text": [
            "Epochs = 21, Training Loss : 8.047185994401763; Training Accuracy: 0.1589058524173028.\n",
            "Epochs = 21, Validation Accuracy : 0.12930595621924318\n"
          ]
        },
        {
          "output_type": "stream",
          "name": "stderr",
          "text": [
            "\r  8%|▊         | 23/300 [00:16<03:22,  1.37it/s]"
          ]
        },
        {
          "output_type": "stream",
          "name": "stdout",
          "text": [
            "Epochs = 22, Training Loss : 8.04485001141512; Training Accuracy: 0.15966921119592875.\n",
            "Epochs = 22, Validation Accuracy : 0.1320210419141354\n"
          ]
        },
        {
          "output_type": "stream",
          "name": "stderr",
          "text": [
            "\r  8%|▊         | 24/300 [00:17<03:20,  1.37it/s]"
          ]
        },
        {
          "output_type": "stream",
          "name": "stdout",
          "text": [
            "Epochs = 23, Training Loss : 8.043880812729462; Training Accuracy: 0.16145038167938933.\n",
            "Epochs = 23, Validation Accuracy : 0.12947564907517395\n"
          ]
        },
        {
          "output_type": "stream",
          "name": "stderr",
          "text": [
            "\r  8%|▊         | 25/300 [00:18<03:20,  1.37it/s]"
          ]
        },
        {
          "output_type": "stream",
          "name": "stdout",
          "text": [
            "Epochs = 24, Training Loss : 8.041848837574825; Training Accuracy: 0.16344359626802374.\n",
            "Epochs = 24, Validation Accuracy : 0.13185134905820464\n"
          ]
        },
        {
          "output_type": "stream",
          "name": "stderr",
          "text": [
            "\r  9%|▊         | 26/300 [00:18<03:17,  1.39it/s]"
          ]
        },
        {
          "output_type": "stream",
          "name": "stdout",
          "text": [
            "Epochs = 25, Training Loss : 8.040496110916138; Training Accuracy: 0.1644189991518236.\n",
            "Epochs = 25, Validation Accuracy : 0.1296453419311047\n"
          ]
        },
        {
          "output_type": "stream",
          "name": "stderr",
          "text": [
            "\r  9%|▉         | 27/300 [00:19<03:17,  1.38it/s]"
          ]
        },
        {
          "output_type": "stream",
          "name": "stdout",
          "text": [
            "Epochs = 26, Training Loss : 8.03953752034827; Training Accuracy: 0.16492790500424087.\n",
            "Epochs = 26, Validation Accuracy : 0.13134227049041236\n"
          ]
        },
        {
          "output_type": "stream",
          "name": "stderr",
          "text": [
            "\r  9%|▉         | 28/300 [00:20<03:16,  1.38it/s]"
          ]
        },
        {
          "output_type": "stream",
          "name": "stdout",
          "text": [
            "Epochs = 27, Training Loss : 8.036361090744599; Training Accuracy: 0.16810856658184903.\n",
            "Epochs = 27, Validation Accuracy : 0.13168165620227387\n"
          ]
        },
        {
          "output_type": "stream",
          "name": "stderr",
          "text": [
            "\r 10%|▉         | 29/300 [00:21<03:16,  1.38it/s]"
          ]
        },
        {
          "output_type": "stream",
          "name": "stdout",
          "text": [
            "Epochs = 28, Training Loss : 8.034947525096845; Training Accuracy: 0.16997455470737913.\n",
            "Epochs = 28, Validation Accuracy : 0.1311725776344816\n"
          ]
        },
        {
          "output_type": "stream",
          "name": "stderr",
          "text": [
            "\r 10%|█         | 30/300 [00:21<03:14,  1.39it/s]"
          ]
        },
        {
          "output_type": "stream",
          "name": "stdout",
          "text": [
            "Epochs = 29, Training Loss : 8.034091505823255; Training Accuracy: 0.1707379134860051.\n",
            "Epochs = 29, Validation Accuracy : 0.13032411335482777\n"
          ]
        },
        {
          "output_type": "stream",
          "name": "stderr",
          "text": [
            "\r 10%|█         | 31/300 [00:22<03:13,  1.39it/s]"
          ]
        },
        {
          "output_type": "stream",
          "name": "stdout",
          "text": [
            "Epochs = 30, Training Loss : 8.032062370565873; Training Accuracy: 0.17285835453774384.\n",
            "Epochs = 30, Validation Accuracy : 0.1335482776175123\n"
          ]
        },
        {
          "output_type": "stream",
          "name": "stderr",
          "text": [
            "\r 11%|█         | 32/300 [00:23<03:14,  1.38it/s]"
          ]
        },
        {
          "output_type": "stream",
          "name": "stdout",
          "text": [
            "Epochs = 31, Training Loss : 8.031802814218063; Training Accuracy: 0.1737913486005089.\n",
            "Epochs = 31, Validation Accuracy : 0.1311725776344816\n"
          ]
        },
        {
          "output_type": "stream",
          "name": "stderr",
          "text": [
            "\r 11%|█         | 33/300 [00:23<03:13,  1.38it/s]"
          ]
        },
        {
          "output_type": "stream",
          "name": "stdout",
          "text": [
            "Epochs = 32, Training Loss : 8.028397309629224; Training Accuracy: 0.1763358778625954.\n",
            "Epochs = 32, Validation Accuracy : 0.12981503478703546\n"
          ]
        },
        {
          "output_type": "stream",
          "name": "stderr",
          "text": [
            "\r 11%|█▏        | 34/300 [00:24<03:14,  1.37it/s]"
          ]
        },
        {
          "output_type": "stream",
          "name": "stdout",
          "text": [
            "Epochs = 33, Training Loss : 8.027073030230365; Training Accuracy: 0.1784139100932994.\n",
            "Epochs = 33, Validation Accuracy : 0.13253012048192772\n"
          ]
        },
        {
          "output_type": "stream",
          "name": "stderr",
          "text": [
            "\r 12%|█▏        | 35/300 [00:25<03:12,  1.37it/s]"
          ]
        },
        {
          "output_type": "stream",
          "name": "stdout",
          "text": [
            "Epochs = 34, Training Loss : 8.024219120605082; Training Accuracy: 0.18155216284987277.\n",
            "Epochs = 34, Validation Accuracy : 0.13219073477006618\n"
          ]
        },
        {
          "output_type": "stream",
          "name": "stderr",
          "text": [
            "\r 12%|█▏        | 36/300 [00:26<03:15,  1.35it/s]"
          ]
        },
        {
          "output_type": "stream",
          "name": "stdout",
          "text": [
            "Epochs = 35, Training Loss : 8.020479208306421; Training Accuracy: 0.18502968617472434.\n",
            "Epochs = 35, Validation Accuracy : 0.13863906329543527\n"
          ]
        },
        {
          "output_type": "stream",
          "name": "stderr",
          "text": [
            "\r 12%|█▏        | 37/300 [00:26<03:13,  1.36it/s]"
          ]
        },
        {
          "output_type": "stream",
          "name": "stdout",
          "text": [
            "Epochs = 36, Training Loss : 8.016223355184627; Training Accuracy: 0.18960983884648006.\n",
            "Epochs = 36, Validation Accuracy : 0.13829967758357373\n"
          ]
        },
        {
          "output_type": "stream",
          "name": "stderr",
          "text": [
            "\r 13%|█▎        | 38/300 [00:27<03:14,  1.35it/s]"
          ]
        },
        {
          "output_type": "stream",
          "name": "stdout",
          "text": [
            "Epochs = 37, Training Loss : 8.012532958501502; Training Accuracy: 0.1941899915182358.\n",
            "Epochs = 37, Validation Accuracy : 0.14271169183777363\n"
          ]
        },
        {
          "output_type": "stream",
          "name": "stderr",
          "text": [
            "\r 13%|█▎        | 39/300 [00:28<03:12,  1.36it/s]"
          ]
        },
        {
          "output_type": "stream",
          "name": "stdout",
          "text": [
            "Epochs = 38, Training Loss : 8.00872119167183; Training Accuracy: 0.19618320610687023.\n",
            "Epochs = 38, Validation Accuracy : 0.14203292041405058\n"
          ]
        },
        {
          "output_type": "stream",
          "name": "stderr",
          "text": [
            "\r 13%|█▎        | 40/300 [00:29<03:11,  1.36it/s]"
          ]
        },
        {
          "output_type": "stream",
          "name": "stdout",
          "text": [
            "Epochs = 39, Training Loss : 8.007211842114412; Training Accuracy: 0.19860050890585243.\n",
            "Epochs = 39, Validation Accuracy : 0.13965722043101986\n"
          ]
        },
        {
          "output_type": "stream",
          "name": "stderr",
          "text": [
            "\r 14%|█▎        | 41/300 [00:29<03:12,  1.35it/s]"
          ]
        },
        {
          "output_type": "stream",
          "name": "stdout",
          "text": [
            "Epochs = 40, Training Loss : 8.005149207537688; Training Accuracy: 0.20148430873621714.\n",
            "Epochs = 40, Validation Accuracy : 0.14440862039708127\n"
          ]
        },
        {
          "output_type": "stream",
          "name": "stderr",
          "text": [
            "\r 14%|█▍        | 42/300 [00:30<03:10,  1.35it/s]"
          ]
        },
        {
          "output_type": "stream",
          "name": "stdout",
          "text": [
            "Epochs = 41, Training Loss : 8.003093182286129; Training Accuracy: 0.20199321458863442.\n",
            "Epochs = 41, Validation Accuracy : 0.146784320380112\n"
          ]
        },
        {
          "output_type": "stream",
          "name": "stderr",
          "text": [
            "\r 14%|█▍        | 43/300 [00:31<03:08,  1.36it/s]"
          ]
        },
        {
          "output_type": "stream",
          "name": "stdout",
          "text": [
            "Epochs = 42, Training Loss : 8.001263748241376; Training Accuracy: 0.20424088210347752.\n",
            "Epochs = 42, Validation Accuracy : 0.1423723061259121\n"
          ]
        },
        {
          "output_type": "stream",
          "name": "stderr",
          "text": [
            "\r 15%|█▍        | 44/300 [00:32<03:09,  1.35it/s]"
          ]
        },
        {
          "output_type": "stream",
          "name": "stdout",
          "text": [
            "Epochs = 43, Training Loss : 8.000029669532292; Training Accuracy: 0.20508905852417303.\n",
            "Epochs = 43, Validation Accuracy : 0.14372984897335822\n"
          ]
        },
        {
          "output_type": "stream",
          "name": "stderr",
          "text": [
            "\r 15%|█▌        | 45/300 [00:32<03:08,  1.35it/s]"
          ]
        },
        {
          "output_type": "stream",
          "name": "stdout",
          "text": [
            "Epochs = 44, Training Loss : 7.997803117655501; Training Accuracy: 0.20720949957591178.\n",
            "Epochs = 44, Validation Accuracy : 0.1428813846937044\n"
          ]
        },
        {
          "output_type": "stream",
          "name": "stderr",
          "text": [
            "\r 15%|█▌        | 46/300 [00:33<03:07,  1.36it/s]"
          ]
        },
        {
          "output_type": "stream",
          "name": "stdout",
          "text": [
            "Epochs = 45, Training Loss : 7.997486268417744; Training Accuracy: 0.20725190839694657.\n",
            "Epochs = 45, Validation Accuracy : 0.143899541829289\n"
          ]
        },
        {
          "output_type": "stream",
          "name": "stderr",
          "text": [
            "\r 16%|█▌        | 47/300 [00:34<03:06,  1.36it/s]"
          ]
        },
        {
          "output_type": "stream",
          "name": "stdout",
          "text": [
            "Epochs = 46, Training Loss : 7.995578720599791; Training Accuracy: 0.2090754877014419.\n",
            "Epochs = 46, Validation Accuracy : 0.1447480061089428\n"
          ]
        },
        {
          "output_type": "stream",
          "name": "stderr",
          "text": [
            "\r 16%|█▌        | 48/300 [00:35<03:07,  1.34it/s]"
          ]
        },
        {
          "output_type": "stream",
          "name": "stdout",
          "text": [
            "Epochs = 47, Training Loss : 7.994740407678146; Training Accuracy: 0.21017811704834605.\n",
            "Epochs = 47, Validation Accuracy : 0.1428813846937044\n"
          ]
        },
        {
          "output_type": "stream",
          "name": "stderr",
          "text": [
            "\r 16%|█▋        | 49/300 [00:35<03:06,  1.35it/s]"
          ]
        },
        {
          "output_type": "stream",
          "name": "stdout",
          "text": [
            "Epochs = 48, Training Loss : 7.994106205203865; Training Accuracy: 0.21174724342663273.\n",
            "Epochs = 48, Validation Accuracy : 0.14559647038859663\n"
          ]
        },
        {
          "output_type": "stream",
          "name": "stderr",
          "text": [
            "\r 17%|█▋        | 50/300 [00:36<03:07,  1.34it/s]"
          ]
        },
        {
          "output_type": "stream",
          "name": "stdout",
          "text": [
            "Epochs = 49, Training Loss : 7.992237232908418; Training Accuracy: 0.2131467345207803.\n",
            "Epochs = 49, Validation Accuracy : 0.14491769896487358\n"
          ]
        },
        {
          "output_type": "stream",
          "name": "stderr",
          "text": [
            "\r 17%|█▋        | 51/300 [00:37<03:04,  1.35it/s]"
          ]
        },
        {
          "output_type": "stream",
          "name": "stdout",
          "text": [
            "Epochs = 50, Training Loss : 7.990425309048423; Training Accuracy: 0.214715860899067.\n",
            "Epochs = 50, Validation Accuracy : 0.14491769896487358\n"
          ]
        },
        {
          "output_type": "stream",
          "name": "stderr",
          "text": [
            "\r 17%|█▋        | 52/300 [00:38<03:03,  1.35it/s]"
          ]
        },
        {
          "output_type": "stream",
          "name": "stdout",
          "text": [
            "Epochs = 51, Training Loss : 7.989788909501668; Training Accuracy: 0.21615776081424937.\n",
            "Epochs = 51, Validation Accuracy : 0.14440862039708127\n"
          ]
        },
        {
          "output_type": "stream",
          "name": "stderr",
          "text": [
            "\r 18%|█▊        | 53/300 [00:38<03:01,  1.36it/s]"
          ]
        },
        {
          "output_type": "stream",
          "name": "stdout",
          "text": [
            "Epochs = 52, Training Loss : 7.988079928144624; Training Accuracy: 0.21738761662425785.\n",
            "Epochs = 52, Validation Accuracy : 0.14508739182080435\n"
          ]
        },
        {
          "output_type": "stream",
          "name": "stderr",
          "text": [
            "\r 18%|█▊        | 54/300 [00:39<03:00,  1.36it/s]"
          ]
        },
        {
          "output_type": "stream",
          "name": "stdout",
          "text": [
            "Epochs = 53, Training Loss : 7.987090107760852; Training Accuracy: 0.2183206106870229.\n",
            "Epochs = 53, Validation Accuracy : 0.14610554895638894\n"
          ]
        },
        {
          "output_type": "stream",
          "name": "stderr",
          "text": [
            "\r 18%|█▊        | 55/300 [00:40<03:00,  1.36it/s]"
          ]
        },
        {
          "output_type": "stream",
          "name": "stdout",
          "text": [
            "Epochs = 54, Training Loss : 7.986456982697113; Training Accuracy: 0.21921119592875318.\n",
            "Epochs = 54, Validation Accuracy : 0.14763278465976581\n"
          ]
        },
        {
          "output_type": "stream",
          "name": "stderr",
          "text": [
            "\r 19%|█▊        | 56/300 [00:40<02:59,  1.36it/s]"
          ]
        },
        {
          "output_type": "stream",
          "name": "stdout",
          "text": [
            "Epochs = 55, Training Loss : 7.984069676338872; Training Accuracy: 0.22217981340118745.\n",
            "Epochs = 55, Validation Accuracy : 0.1472933989479043\n"
          ]
        },
        {
          "output_type": "stream",
          "name": "stderr",
          "text": [
            "\r 19%|█▉        | 57/300 [00:41<02:58,  1.36it/s]"
          ]
        },
        {
          "output_type": "stream",
          "name": "stdout",
          "text": [
            "Epochs = 56, Training Loss : 7.9822097609314735; Training Accuracy: 0.22357930449533503.\n",
            "Epochs = 56, Validation Accuracy : 0.1462752418123197\n"
          ]
        },
        {
          "output_type": "stream",
          "name": "stderr",
          "text": [
            "\r 19%|█▉        | 58/300 [00:42<02:58,  1.36it/s]"
          ]
        },
        {
          "output_type": "stream",
          "name": "stdout",
          "text": [
            "Epochs = 57, Training Loss : 7.9820683062831055; Training Accuracy: 0.2243002544529262.\n",
            "Epochs = 57, Validation Accuracy : 0.1447480061089428\n"
          ]
        },
        {
          "output_type": "stream",
          "name": "stderr",
          "text": [
            "\r 20%|█▉        | 59/300 [00:43<02:56,  1.36it/s]"
          ]
        },
        {
          "output_type": "stream",
          "name": "stdout",
          "text": [
            "Epochs = 58, Training Loss : 7.9795294864268245; Training Accuracy: 0.22553011026293468.\n",
            "Epochs = 58, Validation Accuracy : 0.14661462752418122\n"
          ]
        },
        {
          "output_type": "stream",
          "name": "stderr",
          "text": [
            "\r 20%|██        | 60/300 [00:43<02:54,  1.37it/s]"
          ]
        },
        {
          "output_type": "stream",
          "name": "stdout",
          "text": [
            "Epochs = 59, Training Loss : 7.97956922386266; Training Accuracy: 0.2262086513994911.\n",
            "Epochs = 59, Validation Accuracy : 0.1472933989479043\n"
          ]
        },
        {
          "output_type": "stream",
          "name": "stderr",
          "text": [
            "\r 20%|██        | 61/300 [00:44<02:55,  1.36it/s]"
          ]
        },
        {
          "output_type": "stream",
          "name": "stdout",
          "text": [
            "Epochs = 60, Training Loss : 7.978915920740442; Training Accuracy: 0.22692960135708226.\n",
            "Epochs = 60, Validation Accuracy : 0.14797217037162735\n"
          ]
        },
        {
          "output_type": "stream",
          "name": "stderr",
          "text": [
            "\r 21%|██        | 62/300 [00:45<02:55,  1.36it/s]"
          ]
        },
        {
          "output_type": "stream",
          "name": "stdout",
          "text": [
            "Epochs = 61, Training Loss : 7.977531306351287; Training Accuracy: 0.22811704834605598.\n",
            "Epochs = 61, Validation Accuracy : 0.14610554895638894\n"
          ]
        },
        {
          "output_type": "stream",
          "name": "stderr",
          "text": [
            "\r 21%|██        | 63/300 [00:46<02:54,  1.36it/s]"
          ]
        },
        {
          "output_type": "stream",
          "name": "stdout",
          "text": [
            "Epochs = 62, Training Loss : 7.975993240935893; Training Accuracy: 0.23019508057675997.\n",
            "Epochs = 62, Validation Accuracy : 0.14780247751569658\n"
          ]
        },
        {
          "output_type": "stream",
          "name": "stderr",
          "text": [
            "\r 21%|██▏       | 64/300 [00:46<02:54,  1.35it/s]"
          ]
        },
        {
          "output_type": "stream",
          "name": "stdout",
          "text": [
            "Epochs = 63, Training Loss : 7.9745962740499765; Training Accuracy: 0.23142493638676845.\n",
            "Epochs = 63, Validation Accuracy : 0.14661462752418122\n"
          ]
        },
        {
          "output_type": "stream",
          "name": "stderr",
          "text": [
            "\r 22%|██▏       | 65/300 [00:47<02:53,  1.36it/s]"
          ]
        },
        {
          "output_type": "stream",
          "name": "stdout",
          "text": [
            "Epochs = 64, Training Loss : 7.974174801307388; Training Accuracy: 0.23176420695504665.\n",
            "Epochs = 64, Validation Accuracy : 0.14814186322755812\n"
          ]
        },
        {
          "output_type": "stream",
          "name": "stderr",
          "text": [
            "\r 22%|██▏       | 66/300 [00:48<02:51,  1.36it/s]"
          ]
        },
        {
          "output_type": "stream",
          "name": "stdout",
          "text": [
            "Epochs = 65, Training Loss : 7.972465116766434; Training Accuracy: 0.2330364715860899.\n",
            "Epochs = 65, Validation Accuracy : 0.146784320380112\n"
          ]
        },
        {
          "output_type": "stream",
          "name": "stderr",
          "text": [
            "\r 22%|██▏       | 67/300 [00:49<02:50,  1.36it/s]"
          ]
        },
        {
          "output_type": "stream",
          "name": "stdout",
          "text": [
            "Epochs = 66, Training Loss : 7.972809296620043; Training Accuracy: 0.23273960983884648.\n",
            "Epochs = 66, Validation Accuracy : 0.14610554895638894\n"
          ]
        },
        {
          "output_type": "stream",
          "name": "stderr",
          "text": [
            "\r 23%|██▎       | 68/300 [00:49<02:49,  1.37it/s]"
          ]
        },
        {
          "output_type": "stream",
          "name": "stdout",
          "text": [
            "Epochs = 67, Training Loss : 7.971853935265843; Training Accuracy: 0.23346055979643765.\n",
            "Epochs = 67, Validation Accuracy : 0.1486509417953504\n"
          ]
        },
        {
          "output_type": "stream",
          "name": "stderr",
          "text": [
            "\r 23%|██▎       | 69/300 [00:50<02:50,  1.36it/s]"
          ]
        },
        {
          "output_type": "stream",
          "name": "stdout",
          "text": [
            "Epochs = 68, Training Loss : 7.9704325410384165; Training Accuracy: 0.23515691263782867.\n",
            "Epochs = 68, Validation Accuracy : 0.14916002036314271\n"
          ]
        },
        {
          "output_type": "stream",
          "name": "stderr",
          "text": [
            "\r 23%|██▎       | 70/300 [00:51<02:48,  1.37it/s]"
          ]
        },
        {
          "output_type": "stream",
          "name": "stdout",
          "text": [
            "Epochs = 69, Training Loss : 7.969492489778543; Training Accuracy: 0.23549618320610688.\n",
            "Epochs = 69, Validation Accuracy : 0.14763278465976581\n"
          ]
        },
        {
          "output_type": "stream",
          "name": "stderr",
          "text": [
            "\r 24%|██▎       | 71/300 [00:51<02:48,  1.36it/s]"
          ]
        },
        {
          "output_type": "stream",
          "name": "stdout",
          "text": [
            "Epochs = 70, Training Loss : 7.969500580920449; Training Accuracy: 0.23536895674300254.\n",
            "Epochs = 70, Validation Accuracy : 0.1483115560834889\n"
          ]
        },
        {
          "output_type": "stream",
          "name": "stderr",
          "text": [
            "\r 24%|██▍       | 72/300 [00:52<02:47,  1.36it/s]"
          ]
        },
        {
          "output_type": "stream",
          "name": "stdout",
          "text": [
            "Epochs = 71, Training Loss : 7.967428678198706; Training Accuracy: 0.23731976251060222.\n",
            "Epochs = 71, Validation Accuracy : 0.14712370609197353\n"
          ]
        },
        {
          "output_type": "stream",
          "name": "stderr",
          "text": [
            "\r 24%|██▍       | 73/300 [00:53<02:47,  1.36it/s]"
          ]
        },
        {
          "output_type": "stream",
          "name": "stdout",
          "text": [
            "Epochs = 72, Training Loss : 7.967929236496551; Training Accuracy: 0.2376590330788804.\n",
            "Epochs = 72, Validation Accuracy : 0.1472933989479043\n"
          ]
        },
        {
          "output_type": "stream",
          "name": "stderr",
          "text": [
            "\r 25%|██▍       | 74/300 [00:54<02:46,  1.36it/s]"
          ]
        },
        {
          "output_type": "stream",
          "name": "stdout",
          "text": [
            "Epochs = 73, Training Loss : 7.967389559443993; Training Accuracy: 0.23842239185750635.\n",
            "Epochs = 73, Validation Accuracy : 0.14763278465976581\n"
          ]
        },
        {
          "output_type": "stream",
          "name": "stderr",
          "text": [
            "\r 25%|██▌       | 75/300 [00:54<02:45,  1.36it/s]"
          ]
        },
        {
          "output_type": "stream",
          "name": "stdout",
          "text": [
            "Epochs = 74, Training Loss : 7.965871611727944; Training Accuracy: 0.23986429177268873.\n",
            "Epochs = 74, Validation Accuracy : 0.14932971321907348\n"
          ]
        },
        {
          "output_type": "stream",
          "name": "stderr",
          "text": [
            "\r 25%|██▌       | 76/300 [00:55<02:46,  1.35it/s]"
          ]
        },
        {
          "output_type": "stream",
          "name": "stdout",
          "text": [
            "Epochs = 75, Training Loss : 7.964968165264854; Training Accuracy: 0.2416030534351145.\n",
            "Epochs = 75, Validation Accuracy : 0.1483115560834889\n"
          ]
        },
        {
          "output_type": "stream",
          "name": "stderr",
          "text": [
            "\r 26%|██▌       | 77/300 [00:56<02:44,  1.35it/s]"
          ]
        },
        {
          "output_type": "stream",
          "name": "stdout",
          "text": [
            "Epochs = 76, Training Loss : 7.963104411016537; Training Accuracy: 0.24206955046649703.\n",
            "Epochs = 76, Validation Accuracy : 0.1486509417953504\n"
          ]
        },
        {
          "output_type": "stream",
          "name": "stderr",
          "text": [
            "\r 26%|██▌       | 78/300 [00:57<02:45,  1.34it/s]"
          ]
        },
        {
          "output_type": "stream",
          "name": "stdout",
          "text": [
            "Epochs = 77, Training Loss : 7.962631464004517; Training Accuracy: 0.24304495335029686.\n",
            "Epochs = 77, Validation Accuracy : 0.1522144917698965\n"
          ]
        },
        {
          "output_type": "stream",
          "name": "stderr",
          "text": [
            "\r 26%|██▋       | 79/300 [00:57<02:43,  1.35it/s]"
          ]
        },
        {
          "output_type": "stream",
          "name": "stdout",
          "text": [
            "Epochs = 78, Training Loss : 7.963097771511802; Training Accuracy: 0.2426632739609839.\n",
            "Epochs = 78, Validation Accuracy : 0.15187510605803495\n"
          ]
        },
        {
          "output_type": "stream",
          "name": "stderr",
          "text": [
            "\r 27%|██▋       | 80/300 [00:58<02:43,  1.35it/s]"
          ]
        },
        {
          "output_type": "stream",
          "name": "stdout",
          "text": [
            "Epochs = 79, Training Loss : 7.961214901525763; Training Accuracy: 0.24461407972858354.\n",
            "Epochs = 79, Validation Accuracy : 0.15085694892245036\n"
          ]
        },
        {
          "output_type": "stream",
          "name": "stderr",
          "text": [
            "\r 27%|██▋       | 81/300 [00:59<02:42,  1.35it/s]"
          ]
        },
        {
          "output_type": "stream",
          "name": "stdout",
          "text": [
            "Epochs = 80, Training Loss : 7.959937116767787; Training Accuracy: 0.2460559796437659.\n",
            "Epochs = 80, Validation Accuracy : 0.149669098930935\n"
          ]
        },
        {
          "output_type": "stream",
          "name": "stderr",
          "text": [
            "\r 27%|██▋       | 82/300 [01:00<02:41,  1.35it/s]"
          ]
        },
        {
          "output_type": "stream",
          "name": "stdout",
          "text": [
            "Epochs = 81, Training Loss : 7.960816413541384; Training Accuracy: 0.24558948261238336.\n",
            "Epochs = 81, Validation Accuracy : 0.15153572034617344\n"
          ]
        },
        {
          "output_type": "stream",
          "name": "stderr",
          "text": [
            "\r 28%|██▊       | 83/300 [01:00<02:38,  1.37it/s]"
          ]
        },
        {
          "output_type": "stream",
          "name": "stdout",
          "text": [
            "Epochs = 82, Training Loss : 7.959816561469549; Training Accuracy: 0.24626802374893977.\n",
            "Epochs = 82, Validation Accuracy : 0.15034787035465808\n"
          ]
        },
        {
          "output_type": "stream",
          "name": "stderr",
          "text": [
            "\r 28%|██▊       | 84/300 [01:01<02:36,  1.38it/s]"
          ]
        },
        {
          "output_type": "stream",
          "name": "stdout",
          "text": [
            "Epochs = 83, Training Loss : 7.959307951263234; Training Accuracy: 0.24673452078032232.\n",
            "Epochs = 83, Validation Accuracy : 0.1506872560665196\n"
          ]
        },
        {
          "output_type": "stream",
          "name": "stderr",
          "text": [
            "\r 28%|██▊       | 85/300 [01:02<02:36,  1.37it/s]"
          ]
        },
        {
          "output_type": "stream",
          "name": "stdout",
          "text": [
            "Epochs = 84, Training Loss : 7.957924743241902; Training Accuracy: 0.2479643765903308.\n",
            "Epochs = 84, Validation Accuracy : 0.14797217037162735\n"
          ]
        },
        {
          "output_type": "stream",
          "name": "stderr",
          "text": [
            "\r 29%|██▊       | 86/300 [01:02<02:35,  1.38it/s]"
          ]
        },
        {
          "output_type": "stream",
          "name": "stdout",
          "text": [
            "Epochs = 85, Training Loss : 7.957619504083561; Training Accuracy: 0.2477947413061917.\n",
            "Epochs = 85, Validation Accuracy : 0.1537417274732734\n"
          ]
        },
        {
          "output_type": "stream",
          "name": "stderr",
          "text": [
            "\r 29%|██▉       | 87/300 [01:03<02:34,  1.38it/s]"
          ]
        },
        {
          "output_type": "stream",
          "name": "stdout",
          "text": [
            "Epochs = 86, Training Loss : 7.956617651106436; Training Accuracy: 0.24889737065309583.\n",
            "Epochs = 86, Validation Accuracy : 0.1486509417953504\n"
          ]
        },
        {
          "output_type": "stream",
          "name": "stderr",
          "text": [
            "\r 29%|██▉       | 88/300 [01:04<02:32,  1.39it/s]"
          ]
        },
        {
          "output_type": "stream",
          "name": "stdout",
          "text": [
            "Epochs = 87, Training Loss : 7.95684651785259; Training Accuracy: 0.24843087362171332.\n",
            "Epochs = 87, Validation Accuracy : 0.14932971321907348\n"
          ]
        },
        {
          "output_type": "stream",
          "name": "stderr",
          "text": [
            "\r 30%|██▉       | 89/300 [01:05<02:32,  1.39it/s]"
          ]
        },
        {
          "output_type": "stream",
          "name": "stdout",
          "text": [
            "Epochs = 88, Training Loss : 7.955044142807586; Training Accuracy: 0.2502120441051739.\n",
            "Epochs = 88, Validation Accuracy : 0.15034787035465808\n"
          ]
        },
        {
          "output_type": "stream",
          "name": "stderr",
          "text": [
            "\r 30%|███       | 90/300 [01:05<02:30,  1.40it/s]"
          ]
        },
        {
          "output_type": "stream",
          "name": "stdout",
          "text": [
            "Epochs = 89, Training Loss : 7.9538562297821045; Training Accuracy: 0.2515267175572519.\n",
            "Epochs = 89, Validation Accuracy : 0.15357203461734262\n"
          ]
        },
        {
          "output_type": "stream",
          "name": "stderr",
          "text": [
            "\r 30%|███       | 91/300 [01:06<02:28,  1.40it/s]"
          ]
        },
        {
          "output_type": "stream",
          "name": "stdout",
          "text": [
            "Epochs = 90, Training Loss : 7.955098758769941; Training Accuracy: 0.2511874469889737.\n",
            "Epochs = 90, Validation Accuracy : 0.14916002036314271\n"
          ]
        },
        {
          "output_type": "stream",
          "name": "stderr",
          "text": [
            "\r 31%|███       | 92/300 [01:07<02:29,  1.39it/s]"
          ]
        },
        {
          "output_type": "stream",
          "name": "stdout",
          "text": [
            "Epochs = 91, Training Loss : 7.9535824890378155; Training Accuracy: 0.25161153519932145.\n",
            "Epochs = 91, Validation Accuracy : 0.15170541320210418\n"
          ]
        },
        {
          "output_type": "stream",
          "name": "stderr",
          "text": [
            "\r 31%|███       | 93/300 [01:08<02:29,  1.38it/s]"
          ]
        },
        {
          "output_type": "stream",
          "name": "stdout",
          "text": [
            "Epochs = 92, Training Loss : 7.952479039566426; Training Accuracy: 0.2529262086513995.\n",
            "Epochs = 92, Validation Accuracy : 0.15255387748175803\n"
          ]
        },
        {
          "output_type": "stream",
          "name": "stderr",
          "text": [
            "\r 31%|███▏      | 94/300 [01:08<02:30,  1.37it/s]"
          ]
        },
        {
          "output_type": "stream",
          "name": "stdout",
          "text": [
            "Epochs = 93, Training Loss : 7.952631301517728; Training Accuracy: 0.25305343511450384.\n",
            "Epochs = 93, Validation Accuracy : 0.1527235703376888\n"
          ]
        },
        {
          "output_type": "stream",
          "name": "stderr",
          "text": [
            "\r 32%|███▏      | 95/300 [01:09<02:28,  1.38it/s]"
          ]
        },
        {
          "output_type": "stream",
          "name": "stdout",
          "text": [
            "Epochs = 94, Training Loss : 7.951362643060805; Training Accuracy: 0.2535623409669211.\n",
            "Epochs = 94, Validation Accuracy : 0.15391142032920413\n"
          ]
        },
        {
          "output_type": "stream",
          "name": "stderr",
          "text": [
            "\r 32%|███▏      | 96/300 [01:10<02:28,  1.38it/s]"
          ]
        },
        {
          "output_type": "stream",
          "name": "stdout",
          "text": [
            "Epochs = 95, Training Loss : 7.9513270764411255; Training Accuracy: 0.2535623409669211.\n",
            "Epochs = 95, Validation Accuracy : 0.15255387748175803\n"
          ]
        },
        {
          "output_type": "stream",
          "name": "stderr",
          "text": [
            "\r 32%|███▏      | 97/300 [01:10<02:27,  1.38it/s]"
          ]
        },
        {
          "output_type": "stream",
          "name": "stdout",
          "text": [
            "Epochs = 96, Training Loss : 7.9521121858041495; Training Accuracy: 0.25330788804071247.\n",
            "Epochs = 96, Validation Accuracy : 0.15357203461734262\n"
          ]
        },
        {
          "output_type": "stream",
          "name": "stderr",
          "text": [
            "\r 33%|███▎      | 98/300 [01:11<02:26,  1.37it/s]"
          ]
        },
        {
          "output_type": "stream",
          "name": "stdout",
          "text": [
            "Epochs = 97, Training Loss : 7.951022006288359; Training Accuracy: 0.2548346055979644.\n",
            "Epochs = 97, Validation Accuracy : 0.15255387748175803\n"
          ]
        },
        {
          "output_type": "stream",
          "name": "stderr",
          "text": [
            "\r 33%|███▎      | 99/300 [01:12<02:26,  1.37it/s]"
          ]
        },
        {
          "output_type": "stream",
          "name": "stdout",
          "text": [
            "Epochs = 98, Training Loss : 7.949303503277935; Training Accuracy: 0.25670059372349446.\n",
            "Epochs = 98, Validation Accuracy : 0.15238418462582726\n"
          ]
        },
        {
          "output_type": "stream",
          "name": "stderr",
          "text": [
            "\r 33%|███▎      | 100/300 [01:13<02:25,  1.38it/s]"
          ]
        },
        {
          "output_type": "stream",
          "name": "stdout",
          "text": [
            "Epochs = 99, Training Loss : 7.948836833615847; Training Accuracy: 0.2563189143341815.\n",
            "Epochs = 99, Validation Accuracy : 0.15085694892245036\n"
          ]
        },
        {
          "output_type": "stream",
          "name": "stderr",
          "text": [
            "\r 34%|███▎      | 101/300 [01:13<02:25,  1.36it/s]"
          ]
        },
        {
          "output_type": "stream",
          "name": "stdout",
          "text": [
            "Epochs = 100, Training Loss : 7.9482124696804; Training Accuracy: 0.25720949957591177.\n",
            "Epochs = 100, Validation Accuracy : 0.1540811131851349\n"
          ]
        },
        {
          "output_type": "stream",
          "name": "stderr",
          "text": [
            "\r 34%|███▍      | 102/300 [01:14<02:25,  1.36it/s]"
          ]
        },
        {
          "output_type": "stream",
          "name": "stdout",
          "text": [
            "Epochs = 101, Training Loss : 7.947192327885688; Training Accuracy: 0.2580576759966073.\n",
            "Epochs = 101, Validation Accuracy : 0.15187510605803495\n"
          ]
        },
        {
          "output_type": "stream",
          "name": "stderr",
          "text": [
            "\r 34%|███▍      | 103/300 [01:15<02:23,  1.37it/s]"
          ]
        },
        {
          "output_type": "stream",
          "name": "stdout",
          "text": [
            "Epochs = 102, Training Loss : 7.947075490710102; Training Accuracy: 0.25776081424936387.\n",
            "Epochs = 102, Validation Accuracy : 0.15136602749024267\n"
          ]
        },
        {
          "output_type": "stream",
          "name": "stderr",
          "text": [
            "\r 35%|███▍      | 104/300 [01:16<02:22,  1.38it/s]"
          ]
        },
        {
          "output_type": "stream",
          "name": "stdout",
          "text": [
            "Epochs = 103, Training Loss : 7.946796365931064; Training Accuracy: 0.25780322307039866.\n",
            "Epochs = 103, Validation Accuracy : 0.1540811131851349\n"
          ]
        },
        {
          "output_type": "stream",
          "name": "stderr",
          "text": [
            "\r 35%|███▌      | 105/300 [01:16<02:22,  1.37it/s]"
          ]
        },
        {
          "output_type": "stream",
          "name": "stdout",
          "text": [
            "Epochs = 104, Training Loss : 7.946607170225699; Training Accuracy: 0.25831212892281596.\n",
            "Epochs = 104, Validation Accuracy : 0.15391142032920413\n"
          ]
        },
        {
          "output_type": "stream",
          "name": "stderr",
          "text": [
            "\r 35%|███▌      | 106/300 [01:17<02:21,  1.37it/s]"
          ]
        },
        {
          "output_type": "stream",
          "name": "stdout",
          "text": [
            "Epochs = 105, Training Loss : 7.9475734988345375; Training Accuracy: 0.25759117896522477.\n",
            "Epochs = 105, Validation Accuracy : 0.1574749703037502\n"
          ]
        },
        {
          "output_type": "stream",
          "name": "stderr",
          "text": [
            "\r 36%|███▌      | 107/300 [01:18<02:21,  1.37it/s]"
          ]
        },
        {
          "output_type": "stream",
          "name": "stdout",
          "text": [
            "Epochs = 106, Training Loss : 7.945624970182588; Training Accuracy: 0.2592875318066158.\n",
            "Epochs = 106, Validation Accuracy : 0.1556083488885118\n"
          ]
        },
        {
          "output_type": "stream",
          "name": "stderr",
          "text": [
            "\r 36%|███▌      | 108/300 [01:18<02:20,  1.37it/s]"
          ]
        },
        {
          "output_type": "stream",
          "name": "stdout",
          "text": [
            "Epochs = 107, Training Loss : 7.946473622623878; Training Accuracy: 0.2591603053435115.\n",
            "Epochs = 107, Validation Accuracy : 0.15187510605803495\n"
          ]
        },
        {
          "output_type": "stream",
          "name": "stderr",
          "text": [
            "\r 36%|███▋      | 109/300 [01:19<02:19,  1.37it/s]"
          ]
        },
        {
          "output_type": "stream",
          "name": "stdout",
          "text": [
            "Epochs = 108, Training Loss : 7.9461031563674345; Training Accuracy: 0.2593299406276505.\n",
            "Epochs = 108, Validation Accuracy : 0.15526896317665026\n"
          ]
        },
        {
          "output_type": "stream",
          "name": "stderr",
          "text": [
            "\r 37%|███▋      | 110/300 [01:20<02:19,  1.37it/s]"
          ]
        },
        {
          "output_type": "stream",
          "name": "stdout",
          "text": [
            "Epochs = 109, Training Loss : 7.9450963539413255; Training Accuracy: 0.25966921119592873.\n",
            "Epochs = 109, Validation Accuracy : 0.15611742745630408\n"
          ]
        },
        {
          "output_type": "stream",
          "name": "stderr",
          "text": [
            "\r 37%|███▋      | 111/300 [01:21<02:18,  1.36it/s]"
          ]
        },
        {
          "output_type": "stream",
          "name": "stdout",
          "text": [
            "Epochs = 110, Training Loss : 7.946299631384354; Training Accuracy: 0.2591603053435115.\n",
            "Epochs = 110, Validation Accuracy : 0.15391142032920413\n"
          ]
        },
        {
          "output_type": "stream",
          "name": "stderr",
          "text": [
            "\r 37%|███▋      | 112/300 [01:21<02:18,  1.36it/s]"
          ]
        },
        {
          "output_type": "stream",
          "name": "stdout",
          "text": [
            "Epochs = 111, Training Loss : 7.944817162767241; Training Accuracy: 0.2604749787955895.\n",
            "Epochs = 111, Validation Accuracy : 0.15391142032920413\n"
          ]
        },
        {
          "output_type": "stream",
          "name": "stderr",
          "text": [
            "\r 38%|███▊      | 113/300 [01:22<02:17,  1.36it/s]"
          ]
        },
        {
          "output_type": "stream",
          "name": "stdout",
          "text": [
            "Epochs = 112, Training Loss : 7.945236821717854; Training Accuracy: 0.26051738761662424.\n",
            "Epochs = 112, Validation Accuracy : 0.1537417274732734\n"
          ]
        },
        {
          "output_type": "stream",
          "name": "stderr",
          "text": [
            "\r 38%|███▊      | 114/300 [01:23<02:17,  1.36it/s]"
          ]
        },
        {
          "output_type": "stream",
          "name": "stdout",
          "text": [
            "Epochs = 113, Training Loss : 7.9436293976216374; Training Accuracy: 0.26162001696352843.\n",
            "Epochs = 113, Validation Accuracy : 0.15442049889699644\n"
          ]
        },
        {
          "output_type": "stream",
          "name": "stderr",
          "text": [
            "\r 38%|███▊      | 115/300 [01:24<02:17,  1.35it/s]"
          ]
        },
        {
          "output_type": "stream",
          "name": "stdout",
          "text": [
            "Epochs = 114, Training Loss : 7.94341121746015; Training Accuracy: 0.26136556403731975.\n",
            "Epochs = 114, Validation Accuracy : 0.1550992703207195\n"
          ]
        },
        {
          "output_type": "stream",
          "name": "stderr",
          "text": [
            "\r 39%|███▊      | 116/300 [01:24<02:16,  1.35it/s]"
          ]
        },
        {
          "output_type": "stream",
          "name": "stdout",
          "text": [
            "Epochs = 115, Training Loss : 7.943579574174519; Training Accuracy: 0.26225614927905005.\n",
            "Epochs = 115, Validation Accuracy : 0.1550992703207195\n"
          ]
        },
        {
          "output_type": "stream",
          "name": "stderr",
          "text": [
            "\r 39%|███▉      | 117/300 [01:25<02:14,  1.36it/s]"
          ]
        },
        {
          "output_type": "stream",
          "name": "stdout",
          "text": [
            "Epochs = 116, Training Loss : 7.942026421993593; Training Accuracy: 0.263019508057676.\n",
            "Epochs = 116, Validation Accuracy : 0.15696589173595793\n"
          ]
        },
        {
          "output_type": "stream",
          "name": "stderr",
          "text": [
            "\r 39%|███▉      | 118/300 [01:26<02:13,  1.37it/s]"
          ]
        },
        {
          "output_type": "stream",
          "name": "stdout",
          "text": [
            "Epochs = 117, Training Loss : 7.94254509104958; Training Accuracy: 0.2628074639525021.\n",
            "Epochs = 117, Validation Accuracy : 0.15492957746478872\n"
          ]
        },
        {
          "output_type": "stream",
          "name": "stderr",
          "text": [
            "\r 40%|███▉      | 119/300 [01:27<02:11,  1.38it/s]"
          ]
        },
        {
          "output_type": "stream",
          "name": "stdout",
          "text": [
            "Epochs = 118, Training Loss : 7.942543796346158; Training Accuracy: 0.262637828668363.\n",
            "Epochs = 118, Validation Accuracy : 0.15645681316816562\n"
          ]
        },
        {
          "output_type": "stream",
          "name": "stderr",
          "text": [
            "\r 40%|████      | 120/300 [01:27<02:11,  1.37it/s]"
          ]
        },
        {
          "output_type": "stream",
          "name": "stdout",
          "text": [
            "Epochs = 119, Training Loss : 7.942574597612212; Training Accuracy: 0.26259541984732826.\n",
            "Epochs = 119, Validation Accuracy : 0.1566265060240964\n"
          ]
        },
        {
          "output_type": "stream",
          "name": "stderr",
          "text": [
            "\r 40%|████      | 121/300 [01:28<02:10,  1.37it/s]"
          ]
        },
        {
          "output_type": "stream",
          "name": "stdout",
          "text": [
            "Epochs = 120, Training Loss : 7.94205612472341; Training Accuracy: 0.2625106022052587.\n",
            "Epochs = 120, Validation Accuracy : 0.15798404887154252\n"
          ]
        },
        {
          "output_type": "stream",
          "name": "stderr",
          "text": [
            "\r 41%|████      | 122/300 [01:29<02:11,  1.36it/s]"
          ]
        },
        {
          "output_type": "stream",
          "name": "stdout",
          "text": [
            "Epochs = 121, Training Loss : 7.941037347045126; Training Accuracy: 0.2641645462256149.\n",
            "Epochs = 121, Validation Accuracy : 0.15543865603258103\n"
          ]
        },
        {
          "output_type": "stream",
          "name": "stderr",
          "text": [
            "\r 41%|████      | 123/300 [01:30<02:12,  1.34it/s]"
          ]
        },
        {
          "output_type": "stream",
          "name": "stdout",
          "text": [
            "Epochs = 122, Training Loss : 7.9400633830058425; Training Accuracy: 0.26552162849872774.\n",
            "Epochs = 122, Validation Accuracy : 0.15628712031223485\n"
          ]
        },
        {
          "output_type": "stream",
          "name": "stderr",
          "text": [
            "\r 41%|████▏     | 124/300 [01:30<02:09,  1.36it/s]"
          ]
        },
        {
          "output_type": "stream",
          "name": "stdout",
          "text": [
            "Epochs = 123, Training Loss : 7.938868175579023; Training Accuracy: 0.2655640373197625.\n",
            "Epochs = 123, Validation Accuracy : 0.15713558459188867\n"
          ]
        },
        {
          "output_type": "stream",
          "name": "stderr",
          "text": [
            "\r 42%|████▏     | 125/300 [01:31<02:08,  1.36it/s]"
          ]
        },
        {
          "output_type": "stream",
          "name": "stdout",
          "text": [
            "Epochs = 124, Training Loss : 7.939825275276281; Training Accuracy: 0.26620016963528415.\n",
            "Epochs = 124, Validation Accuracy : 0.15577804174444257\n"
          ]
        },
        {
          "output_type": "stream",
          "name": "stderr",
          "text": [
            "\r 42%|████▏     | 126/300 [01:32<02:07,  1.36it/s]"
          ]
        },
        {
          "output_type": "stream",
          "name": "stdout",
          "text": [
            "Epochs = 125, Training Loss : 7.939366313475597; Training Accuracy: 0.26598812553011025.\n",
            "Epochs = 125, Validation Accuracy : 0.1550992703207195\n"
          ]
        },
        {
          "output_type": "stream",
          "name": "stderr",
          "text": [
            "\r 42%|████▏     | 127/300 [01:32<02:06,  1.37it/s]"
          ]
        },
        {
          "output_type": "stream",
          "name": "stdout",
          "text": [
            "Epochs = 126, Training Loss : 7.938647894919673; Training Accuracy: 0.26590330788804073.\n",
            "Epochs = 126, Validation Accuracy : 0.15645681316816562\n"
          ]
        },
        {
          "output_type": "stream",
          "name": "stderr",
          "text": [
            "\r 43%|████▎     | 128/300 [01:33<02:05,  1.37it/s]"
          ]
        },
        {
          "output_type": "stream",
          "name": "stdout",
          "text": [
            "Epochs = 127, Training Loss : 7.938121566289587; Training Accuracy: 0.2678541136556404.\n",
            "Epochs = 127, Validation Accuracy : 0.15611742745630408\n"
          ]
        },
        {
          "output_type": "stream",
          "name": "stderr",
          "text": [
            "\r 43%|████▎     | 129/300 [01:34<02:05,  1.36it/s]"
          ]
        },
        {
          "output_type": "stream",
          "name": "stdout",
          "text": [
            "Epochs = 128, Training Loss : 7.93787175794191; Training Accuracy: 0.2678117048346056.\n",
            "Epochs = 128, Validation Accuracy : 0.1537417274732734\n"
          ]
        },
        {
          "output_type": "stream",
          "name": "stderr",
          "text": [
            "\r 43%|████▎     | 130/300 [01:35<02:04,  1.37it/s]"
          ]
        },
        {
          "output_type": "stream",
          "name": "stdout",
          "text": [
            "Epochs = 129, Training Loss : 7.936859320990647; Training Accuracy: 0.2685326547921968.\n",
            "Epochs = 129, Validation Accuracy : 0.1550992703207195\n"
          ]
        },
        {
          "output_type": "stream",
          "name": "stderr",
          "text": [
            "\r 44%|████▎     | 131/300 [01:35<02:03,  1.37it/s]"
          ]
        },
        {
          "output_type": "stream",
          "name": "stdout",
          "text": [
            "Epochs = 130, Training Loss : 7.9371547216101535; Training Accuracy: 0.2694656488549618.\n",
            "Epochs = 130, Validation Accuracy : 0.15340234176141185\n"
          ]
        },
        {
          "output_type": "stream",
          "name": "stderr",
          "text": [
            "\r 44%|████▍     | 132/300 [01:36<02:01,  1.38it/s]"
          ]
        },
        {
          "output_type": "stream",
          "name": "stdout",
          "text": [
            "Epochs = 131, Training Loss : 7.935112406935873; Training Accuracy: 0.27116200169635285.\n",
            "Epochs = 131, Validation Accuracy : 0.1545901917529272\n"
          ]
        },
        {
          "output_type": "stream",
          "name": "stderr",
          "text": [
            "\r 44%|████▍     | 133/300 [01:37<02:00,  1.39it/s]"
          ]
        },
        {
          "output_type": "stream",
          "name": "stdout",
          "text": [
            "Epochs = 132, Training Loss : 7.9353016328208055; Training Accuracy: 0.27103477523324854.\n",
            "Epochs = 132, Validation Accuracy : 0.1556083488885118\n"
          ]
        },
        {
          "output_type": "stream",
          "name": "stderr",
          "text": [
            "\r 45%|████▍     | 134/300 [01:38<01:59,  1.39it/s]"
          ]
        },
        {
          "output_type": "stream",
          "name": "stdout",
          "text": [
            "Epochs = 133, Training Loss : 7.933640190317661; Training Accuracy: 0.27128922815945716.\n",
            "Epochs = 133, Validation Accuracy : 0.1545901917529272\n"
          ]
        },
        {
          "output_type": "stream",
          "name": "stderr",
          "text": [
            "\r 45%|████▌     | 135/300 [01:38<01:58,  1.40it/s]"
          ]
        },
        {
          "output_type": "stream",
          "name": "stdout",
          "text": [
            "Epochs = 134, Training Loss : 7.934343513054184; Training Accuracy: 0.27082273112807465.\n",
            "Epochs = 134, Validation Accuracy : 0.1559477346003733\n"
          ]
        },
        {
          "output_type": "stream",
          "name": "stderr",
          "text": [
            "\r 45%|████▌     | 136/300 [01:39<01:59,  1.37it/s]"
          ]
        },
        {
          "output_type": "stream",
          "name": "stdout",
          "text": [
            "Epochs = 135, Training Loss : 7.932516846475722; Training Accuracy: 0.2721374045801527.\n",
            "Epochs = 135, Validation Accuracy : 0.15628712031223485\n"
          ]
        },
        {
          "output_type": "stream",
          "name": "stderr",
          "text": [
            "\r 46%|████▌     | 137/300 [01:40<01:59,  1.37it/s]"
          ]
        },
        {
          "output_type": "stream",
          "name": "stdout",
          "text": [
            "Epochs = 136, Training Loss : 7.933522665047947; Training Accuracy: 0.2726039016115352.\n",
            "Epochs = 136, Validation Accuracy : 0.15832343458340403\n"
          ]
        },
        {
          "output_type": "stream",
          "name": "stderr",
          "text": [
            "\r 46%|████▌     | 138/300 [01:40<01:58,  1.36it/s]"
          ]
        },
        {
          "output_type": "stream",
          "name": "stdout",
          "text": [
            "Epochs = 137, Training Loss : 7.932186126708984; Training Accuracy: 0.2731128074639525.\n",
            "Epochs = 137, Validation Accuracy : 0.15679619888002716\n"
          ]
        },
        {
          "output_type": "stream",
          "name": "stderr",
          "text": [
            "\r 46%|████▋     | 139/300 [01:41<01:56,  1.38it/s]"
          ]
        },
        {
          "output_type": "stream",
          "name": "stdout",
          "text": [
            "Epochs = 138, Training Loss : 7.932031320620187; Training Accuracy: 0.2729431721798134.\n",
            "Epochs = 138, Validation Accuracy : 0.15815374172747326\n"
          ]
        },
        {
          "output_type": "stream",
          "name": "stderr",
          "text": [
            "\r 47%|████▋     | 140/300 [01:42<01:56,  1.37it/s]"
          ]
        },
        {
          "output_type": "stream",
          "name": "stdout",
          "text": [
            "Epochs = 139, Training Loss : 7.931377341475668; Training Accuracy: 0.2744698897370653.\n",
            "Epochs = 139, Validation Accuracy : 0.1537417274732734\n"
          ]
        },
        {
          "output_type": "stream",
          "name": "stderr",
          "text": [
            "\r 47%|████▋     | 141/300 [01:43<01:55,  1.38it/s]"
          ]
        },
        {
          "output_type": "stream",
          "name": "stdout",
          "text": [
            "Epochs = 140, Training Loss : 7.930225396458106; Training Accuracy: 0.2749787955894826.\n",
            "Epochs = 140, Validation Accuracy : 0.15323264890548108\n"
          ]
        },
        {
          "output_type": "stream",
          "name": "stderr",
          "text": [
            "\r 47%|████▋     | 142/300 [01:43<01:53,  1.39it/s]"
          ]
        },
        {
          "output_type": "stream",
          "name": "stdout",
          "text": [
            "Epochs = 141, Training Loss : 7.9303915138486065; Training Accuracy: 0.273960983884648.\n",
            "Epochs = 141, Validation Accuracy : 0.1559477346003733\n"
          ]
        },
        {
          "output_type": "stream",
          "name": "stderr",
          "text": [
            "\r 48%|████▊     | 143/300 [01:44<01:53,  1.38it/s]"
          ]
        },
        {
          "output_type": "stream",
          "name": "stdout",
          "text": [
            "Epochs = 142, Training Loss : 7.9304295401029945; Training Accuracy: 0.27514843087362173.\n",
            "Epochs = 142, Validation Accuracy : 0.15645681316816562\n"
          ]
        },
        {
          "output_type": "stream",
          "name": "stderr",
          "text": [
            "\r 48%|████▊     | 144/300 [01:45<01:53,  1.38it/s]"
          ]
        },
        {
          "output_type": "stream",
          "name": "stdout",
          "text": [
            "Epochs = 143, Training Loss : 7.930968019026745; Training Accuracy: 0.2741306191687871.\n",
            "Epochs = 143, Validation Accuracy : 0.15764466315968098\n"
          ]
        },
        {
          "output_type": "stream",
          "name": "stderr",
          "text": [
            "\r 48%|████▊     | 145/300 [01:45<01:52,  1.38it/s]"
          ]
        },
        {
          "output_type": "stream",
          "name": "stdout",
          "text": [
            "Epochs = 144, Training Loss : 7.929888942573644; Training Accuracy: 0.27514843087362173.\n",
            "Epochs = 144, Validation Accuracy : 0.15645681316816562\n"
          ]
        },
        {
          "output_type": "stream",
          "name": "stderr",
          "text": [
            "\r 49%|████▊     | 146/300 [01:46<01:50,  1.39it/s]"
          ]
        },
        {
          "output_type": "stream",
          "name": "stdout",
          "text": [
            "Epochs = 145, Training Loss : 7.929741705520244; Training Accuracy: 0.27536047497879557.\n",
            "Epochs = 145, Validation Accuracy : 0.15679619888002716\n"
          ]
        },
        {
          "output_type": "stream",
          "name": "stderr",
          "text": [
            "\r 49%|████▉     | 147/300 [01:47<01:49,  1.39it/s]"
          ]
        },
        {
          "output_type": "stream",
          "name": "stdout",
          "text": [
            "Epochs = 146, Training Loss : 7.928791480728343; Training Accuracy: 0.2768871925360475.\n",
            "Epochs = 146, Validation Accuracy : 0.15781435601561175\n"
          ]
        },
        {
          "output_type": "stream",
          "name": "stderr",
          "text": [
            "\r 49%|████▉     | 148/300 [01:48<01:50,  1.38it/s]"
          ]
        },
        {
          "output_type": "stream",
          "name": "stdout",
          "text": [
            "Epochs = 147, Training Loss : 7.93018879467928; Training Accuracy: 0.27506361323155215.\n",
            "Epochs = 147, Validation Accuracy : 0.1584931274393348\n"
          ]
        },
        {
          "output_type": "stream",
          "name": "stderr",
          "text": [
            "\r 50%|████▉     | 149/300 [01:48<01:49,  1.37it/s]"
          ]
        },
        {
          "output_type": "stream",
          "name": "stdout",
          "text": [
            "Epochs = 148, Training Loss : 7.928654211985914; Training Accuracy: 0.27616624257845634.\n",
            "Epochs = 148, Validation Accuracy : 0.15543865603258103\n"
          ]
        },
        {
          "output_type": "stream",
          "name": "stderr",
          "text": [
            "\r 50%|█████     | 150/300 [01:49<01:51,  1.35it/s]"
          ]
        },
        {
          "output_type": "stream",
          "name": "stdout",
          "text": [
            "Epochs = 149, Training Loss : 7.9273073522350455; Training Accuracy: 0.2784563189143342.\n",
            "Epochs = 149, Validation Accuracy : 0.1566265060240964\n"
          ]
        },
        {
          "output_type": "stream",
          "name": "stderr",
          "text": [
            "\r 50%|█████     | 151/300 [01:50<01:49,  1.36it/s]"
          ]
        },
        {
          "output_type": "stream",
          "name": "stdout",
          "text": [
            "Epochs = 150, Training Loss : 7.928014027921459; Training Accuracy: 0.2772688719253605.\n",
            "Epochs = 150, Validation Accuracy : 0.1556083488885118\n"
          ]
        },
        {
          "output_type": "stream",
          "name": "stderr",
          "text": [
            "\r 51%|█████     | 152/300 [01:51<01:48,  1.36it/s]"
          ]
        },
        {
          "output_type": "stream",
          "name": "stdout",
          "text": [
            "Epochs = 151, Training Loss : 7.9272704697862455; Training Accuracy: 0.2783715012722646.\n",
            "Epochs = 151, Validation Accuracy : 0.15713558459188867\n"
          ]
        },
        {
          "output_type": "stream",
          "name": "stderr",
          "text": [
            "\r 51%|█████     | 153/300 [01:51<01:47,  1.36it/s]"
          ]
        },
        {
          "output_type": "stream",
          "name": "stdout",
          "text": [
            "Epochs = 152, Training Loss : 7.928057764149919; Training Accuracy: 0.2768447837150127.\n",
            "Epochs = 152, Validation Accuracy : 0.15628712031223485\n"
          ]
        },
        {
          "output_type": "stream",
          "name": "stderr",
          "text": [
            "\r 51%|█████▏    | 154/300 [01:52<01:47,  1.36it/s]"
          ]
        },
        {
          "output_type": "stream",
          "name": "stdout",
          "text": [
            "Epochs = 153, Training Loss : 7.928882405727724; Training Accuracy: 0.2762086513994911.\n",
            "Epochs = 153, Validation Accuracy : 0.1559477346003733\n"
          ]
        },
        {
          "output_type": "stream",
          "name": "stderr",
          "text": [
            "\r 52%|█████▏    | 155/300 [01:53<01:46,  1.36it/s]"
          ]
        },
        {
          "output_type": "stream",
          "name": "stdout",
          "text": [
            "Epochs = 154, Training Loss : 7.9272817901418176; Training Accuracy: 0.2773960983884648.\n",
            "Epochs = 154, Validation Accuracy : 0.1574749703037502\n"
          ]
        },
        {
          "output_type": "stream",
          "name": "stderr",
          "text": [
            "\r 52%|█████▏    | 156/300 [01:54<01:45,  1.37it/s]"
          ]
        },
        {
          "output_type": "stream",
          "name": "stdout",
          "text": [
            "Epochs = 155, Training Loss : 7.926897417140912; Training Accuracy: 0.27815945716709073.\n",
            "Epochs = 155, Validation Accuracy : 0.1550992703207195\n"
          ]
        },
        {
          "output_type": "stream",
          "name": "stderr",
          "text": [
            "\r 52%|█████▏    | 157/300 [01:54<01:44,  1.37it/s]"
          ]
        },
        {
          "output_type": "stream",
          "name": "stdout",
          "text": [
            "Epochs = 156, Training Loss : 7.926058497609971; Training Accuracy: 0.2793044953350297.\n",
            "Epochs = 156, Validation Accuracy : 0.15832343458340403\n"
          ]
        },
        {
          "output_type": "stream",
          "name": "stderr",
          "text": [
            "\r 53%|█████▎    | 158/300 [01:55<01:43,  1.37it/s]"
          ]
        },
        {
          "output_type": "stream",
          "name": "stdout",
          "text": [
            "Epochs = 157, Training Loss : 7.926034978673428; Training Accuracy: 0.27934690415606445.\n",
            "Epochs = 157, Validation Accuracy : 0.15968097743085016\n"
          ]
        },
        {
          "output_type": "stream",
          "name": "stderr",
          "text": [
            "\r 53%|█████▎    | 159/300 [01:56<01:43,  1.36it/s]"
          ]
        },
        {
          "output_type": "stream",
          "name": "stdout",
          "text": [
            "Epochs = 158, Training Loss : 7.925993279565739; Training Accuracy: 0.2787955894826124.\n",
            "Epochs = 158, Validation Accuracy : 0.15985067028678093\n"
          ]
        },
        {
          "output_type": "stream",
          "name": "stderr",
          "text": [
            "\r 53%|█████▎    | 160/300 [01:56<01:42,  1.37it/s]"
          ]
        },
        {
          "output_type": "stream",
          "name": "stdout",
          "text": [
            "Epochs = 159, Training Loss : 7.92575774615324; Training Accuracy: 0.27951653944020355.\n",
            "Epochs = 159, Validation Accuracy : 0.1584931274393348\n"
          ]
        },
        {
          "output_type": "stream",
          "name": "stderr",
          "text": [
            "\r 54%|█████▎    | 161/300 [01:57<01:41,  1.36it/s]"
          ]
        },
        {
          "output_type": "stream",
          "name": "stdout",
          "text": [
            "Epochs = 160, Training Loss : 7.924531384359432; Training Accuracy: 0.2808312128922816.\n",
            "Epochs = 160, Validation Accuracy : 0.1574749703037502\n"
          ]
        },
        {
          "output_type": "stream",
          "name": "stderr",
          "text": [
            "\r 54%|█████▍    | 162/300 [01:58<01:41,  1.37it/s]"
          ]
        },
        {
          "output_type": "stream",
          "name": "stdout",
          "text": [
            "Epochs = 161, Training Loss : 7.924613717236096; Training Accuracy: 0.28095843935538595.\n",
            "Epochs = 161, Validation Accuracy : 0.15832343458340403\n"
          ]
        },
        {
          "output_type": "stream",
          "name": "stderr",
          "text": [
            "\r 54%|█████▍    | 163/300 [01:59<01:39,  1.37it/s]"
          ]
        },
        {
          "output_type": "stream",
          "name": "stdout",
          "text": [
            "Epochs = 162, Training Loss : 7.925015657762938; Training Accuracy: 0.28078880407124684.\n",
            "Epochs = 162, Validation Accuracy : 0.15832343458340403\n"
          ]
        },
        {
          "output_type": "stream",
          "name": "stderr",
          "text": [
            "\r 55%|█████▍    | 164/300 [01:59<01:38,  1.37it/s]"
          ]
        },
        {
          "output_type": "stream",
          "name": "stdout",
          "text": [
            "Epochs = 163, Training Loss : 7.923764370664766; Training Accuracy: 0.281509754028838.\n",
            "Epochs = 163, Validation Accuracy : 0.15866282029526557\n"
          ]
        },
        {
          "output_type": "stream",
          "name": "stderr",
          "text": [
            "\r 55%|█████▌    | 165/300 [02:00<01:38,  1.37it/s]"
          ]
        },
        {
          "output_type": "stream",
          "name": "stdout",
          "text": [
            "Epochs = 164, Training Loss : 7.925136369994924; Training Accuracy: 0.28057675996607295.\n",
            "Epochs = 164, Validation Accuracy : 0.15832343458340403\n"
          ]
        },
        {
          "output_type": "stream",
          "name": "stderr",
          "text": [
            "\r 55%|█████▌    | 166/300 [02:01<01:38,  1.36it/s]"
          ]
        },
        {
          "output_type": "stream",
          "name": "stdout",
          "text": [
            "Epochs = 165, Training Loss : 7.9245531649529175; Training Accuracy: 0.28023748939779475.\n",
            "Epochs = 165, Validation Accuracy : 0.15883251315119634\n"
          ]
        },
        {
          "output_type": "stream",
          "name": "stderr",
          "text": [
            "\r 56%|█████▌    | 167/300 [02:02<01:37,  1.37it/s]"
          ]
        },
        {
          "output_type": "stream",
          "name": "stdout",
          "text": [
            "Epochs = 166, Training Loss : 7.923434894296188; Training Accuracy: 0.2819762510602205.\n",
            "Epochs = 166, Validation Accuracy : 0.15917189886305785\n"
          ]
        },
        {
          "output_type": "stream",
          "name": "stderr",
          "text": [
            "\r 56%|█████▌    | 168/300 [02:02<01:35,  1.38it/s]"
          ]
        },
        {
          "output_type": "stream",
          "name": "stdout",
          "text": [
            "Epochs = 167, Training Loss : 7.922430931767331; Training Accuracy: 0.2826972010178117.\n",
            "Epochs = 167, Validation Accuracy : 0.15781435601561175\n"
          ]
        },
        {
          "output_type": "stream",
          "name": "stderr",
          "text": [
            "\r 56%|█████▋    | 169/300 [02:03<01:35,  1.37it/s]"
          ]
        },
        {
          "output_type": "stream",
          "name": "stdout",
          "text": [
            "Epochs = 168, Training Loss : 7.921977867054034; Training Accuracy: 0.28295165394402033.\n",
            "Epochs = 168, Validation Accuracy : 0.16069913456643475\n"
          ]
        },
        {
          "output_type": "stream",
          "name": "stderr",
          "text": [
            "\r 57%|█████▋    | 170/300 [02:04<01:35,  1.37it/s]"
          ]
        },
        {
          "output_type": "stream",
          "name": "stdout",
          "text": [
            "Epochs = 169, Training Loss : 7.921813080582438; Training Accuracy: 0.28367260390161153.\n",
            "Epochs = 169, Validation Accuracy : 0.1584931274393348\n"
          ]
        },
        {
          "output_type": "stream",
          "name": "stderr",
          "text": [
            "\r 57%|█████▋    | 171/300 [02:05<01:34,  1.37it/s]"
          ]
        },
        {
          "output_type": "stream",
          "name": "stdout",
          "text": [
            "Epochs = 170, Training Loss : 7.921677465680279; Training Accuracy: 0.28329092451229854.\n",
            "Epochs = 170, Validation Accuracy : 0.15985067028678093\n"
          ]
        },
        {
          "output_type": "stream",
          "name": "stderr",
          "text": [
            "\r 57%|█████▋    | 172/300 [02:05<01:34,  1.36it/s]"
          ]
        },
        {
          "output_type": "stream",
          "name": "stdout",
          "text": [
            "Epochs = 171, Training Loss : 7.921600353868702; Training Accuracy: 0.2840542832909245.\n",
            "Epochs = 171, Validation Accuracy : 0.15866282029526557\n"
          ]
        },
        {
          "output_type": "stream",
          "name": "stderr",
          "text": [
            "\r 58%|█████▊    | 173/300 [02:06<01:33,  1.35it/s]"
          ]
        },
        {
          "output_type": "stream",
          "name": "stdout",
          "text": [
            "Epochs = 172, Training Loss : 7.921664286263382; Training Accuracy: 0.2830364715860899.\n",
            "Epochs = 172, Validation Accuracy : 0.16120821313422704\n"
          ]
        },
        {
          "output_type": "stream",
          "name": "stderr",
          "text": [
            "\r 58%|█████▊    | 174/300 [02:07<01:32,  1.37it/s]"
          ]
        },
        {
          "output_type": "stream",
          "name": "stdout",
          "text": [
            "Epochs = 173, Training Loss : 7.92088465750972; Training Accuracy: 0.28481764206955046.\n",
            "Epochs = 173, Validation Accuracy : 0.15917189886305785\n"
          ]
        },
        {
          "output_type": "stream",
          "name": "stderr",
          "text": [
            "\r 58%|█████▊    | 175/300 [02:07<01:30,  1.38it/s]"
          ]
        },
        {
          "output_type": "stream",
          "name": "stdout",
          "text": [
            "Epochs = 174, Training Loss : 7.919970213612424; Training Accuracy: 0.28490245971162004.\n",
            "Epochs = 174, Validation Accuracy : 0.1595112845749194\n"
          ]
        },
        {
          "output_type": "stream",
          "name": "stderr",
          "text": [
            "\r 59%|█████▊    | 176/300 [02:08<01:30,  1.37it/s]"
          ]
        },
        {
          "output_type": "stream",
          "name": "stdout",
          "text": [
            "Epochs = 175, Training Loss : 7.919622732114188; Training Accuracy: 0.2859202714164546.\n",
            "Epochs = 175, Validation Accuracy : 0.16086882742236552\n"
          ]
        },
        {
          "output_type": "stream",
          "name": "stderr",
          "text": [
            "\r 59%|█████▉    | 177/300 [02:09<01:29,  1.37it/s]"
          ]
        },
        {
          "output_type": "stream",
          "name": "stdout",
          "text": [
            "Epochs = 176, Training Loss : 7.919875247569024; Training Accuracy: 0.28519932145886345.\n",
            "Epochs = 176, Validation Accuracy : 0.1610385202782963\n"
          ]
        },
        {
          "output_type": "stream",
          "name": "stderr",
          "text": [
            "\r 59%|█████▉    | 178/300 [02:10<01:29,  1.37it/s]"
          ]
        },
        {
          "output_type": "stream",
          "name": "stdout",
          "text": [
            "Epochs = 177, Training Loss : 7.919820725163327; Training Accuracy: 0.2861323155216285.\n",
            "Epochs = 177, Validation Accuracy : 0.16086882742236552\n"
          ]
        },
        {
          "output_type": "stream",
          "name": "stderr",
          "text": [
            "\r 60%|█████▉    | 179/300 [02:10<01:28,  1.36it/s]"
          ]
        },
        {
          "output_type": "stream",
          "name": "stdout",
          "text": [
            "Epochs = 178, Training Loss : 7.918621654751934; Training Accuracy: 0.2863019508057676.\n",
            "Epochs = 178, Validation Accuracy : 0.16120821313422704\n"
          ]
        },
        {
          "output_type": "stream",
          "name": "stderr",
          "text": [
            "\r 60%|██████    | 180/300 [02:11<01:27,  1.37it/s]"
          ]
        },
        {
          "output_type": "stream",
          "name": "stdout",
          "text": [
            "Epochs = 179, Training Loss : 7.918438670001453; Training Accuracy: 0.2870229007633588.\n",
            "Epochs = 179, Validation Accuracy : 0.16511114882063466\n"
          ]
        },
        {
          "output_type": "stream",
          "name": "stderr",
          "text": [
            "\r 60%|██████    | 181/300 [02:12<01:26,  1.38it/s]"
          ]
        },
        {
          "output_type": "stream",
          "name": "stdout",
          "text": [
            "Epochs = 180, Training Loss : 7.919307726847975; Training Accuracy: 0.2866412213740458.\n",
            "Epochs = 180, Validation Accuracy : 0.1600203631427117\n"
          ]
        },
        {
          "output_type": "stream",
          "name": "stderr",
          "text": [
            "\r 61%|██████    | 182/300 [02:13<01:25,  1.39it/s]"
          ]
        },
        {
          "output_type": "stream",
          "name": "stdout",
          "text": [
            "Epochs = 181, Training Loss : 7.918095075631443; Training Accuracy: 0.2863443596268024.\n",
            "Epochs = 181, Validation Accuracy : 0.16120821313422704\n"
          ]
        },
        {
          "output_type": "stream",
          "name": "stderr",
          "text": [
            "\r 61%|██████    | 183/300 [02:13<01:25,  1.37it/s]"
          ]
        },
        {
          "output_type": "stream",
          "name": "stdout",
          "text": [
            "Epochs = 182, Training Loss : 7.9165181570415255; Training Accuracy: 0.2885072094995759.\n",
            "Epochs = 182, Validation Accuracy : 0.15934159171898862\n"
          ]
        },
        {
          "output_type": "stream",
          "name": "stderr",
          "text": [
            "\r 61%|██████▏   | 184/300 [02:14<01:24,  1.37it/s]"
          ]
        },
        {
          "output_type": "stream",
          "name": "stdout",
          "text": [
            "Epochs = 183, Training Loss : 7.9156424969057495; Training Accuracy: 0.28884648006785413.\n",
            "Epochs = 183, Validation Accuracy : 0.16052944171050398\n"
          ]
        },
        {
          "output_type": "stream",
          "name": "stderr",
          "text": [
            "\r 62%|██████▏   | 185/300 [02:15<01:23,  1.37it/s]"
          ]
        },
        {
          "output_type": "stream",
          "name": "stdout",
          "text": [
            "Epochs = 184, Training Loss : 7.917874297009239; Training Accuracy: 0.28740458015267173.\n",
            "Epochs = 184, Validation Accuracy : 0.16154759884608857\n"
          ]
        },
        {
          "output_type": "stream",
          "name": "stderr",
          "text": [
            "\r 62%|██████▏   | 186/300 [02:15<01:22,  1.38it/s]"
          ]
        },
        {
          "output_type": "stream",
          "name": "stdout",
          "text": [
            "Epochs = 185, Training Loss : 7.916631360597249; Training Accuracy: 0.28876166242578455.\n",
            "Epochs = 185, Validation Accuracy : 0.15917189886305785\n"
          ]
        },
        {
          "output_type": "stream",
          "name": "stderr",
          "text": [
            "\r 62%|██████▏   | 187/300 [02:16<01:22,  1.37it/s]"
          ]
        },
        {
          "output_type": "stream",
          "name": "stdout",
          "text": [
            "Epochs = 186, Training Loss : 7.916604440423507; Training Accuracy: 0.28884648006785413.\n",
            "Epochs = 186, Validation Accuracy : 0.1590022060071271\n"
          ]
        },
        {
          "output_type": "stream",
          "name": "stderr",
          "text": [
            "\r 63%|██████▎   | 188/300 [02:17<01:21,  1.38it/s]"
          ]
        },
        {
          "output_type": "stream",
          "name": "stdout",
          "text": [
            "Epochs = 187, Training Loss : 7.916315136076529; Training Accuracy: 0.28948261238337575.\n",
            "Epochs = 187, Validation Accuracy : 0.1600203631427117\n"
          ]
        },
        {
          "output_type": "stream",
          "name": "stderr",
          "text": [
            "\r 63%|██████▎   | 189/300 [02:18<01:20,  1.37it/s]"
          ]
        },
        {
          "output_type": "stream",
          "name": "stdout",
          "text": [
            "Epochs = 188, Training Loss : 7.9163770192786105; Training Accuracy: 0.28842239185750634.\n",
            "Epochs = 188, Validation Accuracy : 0.16052944171050398\n"
          ]
        },
        {
          "output_type": "stream",
          "name": "stderr",
          "text": [
            "\r 63%|██████▎   | 190/300 [02:18<01:19,  1.38it/s]"
          ]
        },
        {
          "output_type": "stream",
          "name": "stdout",
          "text": [
            "Epochs = 189, Training Loss : 7.914913672435133; Training Accuracy: 0.2906276505513147.\n",
            "Epochs = 189, Validation Accuracy : 0.1629051416935347\n"
          ]
        },
        {
          "output_type": "stream",
          "name": "stderr",
          "text": [
            "\r 64%|██████▎   | 191/300 [02:19<01:19,  1.37it/s]"
          ]
        },
        {
          "output_type": "stream",
          "name": "stdout",
          "text": [
            "Epochs = 190, Training Loss : 7.914868062055564; Training Accuracy: 0.2908821034775233.\n",
            "Epochs = 190, Validation Accuracy : 0.16256575598167317\n"
          ]
        },
        {
          "output_type": "stream",
          "name": "stderr",
          "text": [
            "\r 64%|██████▍   | 192/300 [02:20<01:19,  1.37it/s]"
          ]
        },
        {
          "output_type": "stream",
          "name": "stdout",
          "text": [
            "Epochs = 191, Training Loss : 7.91460100608536; Training Accuracy: 0.2914758269720102.\n",
            "Epochs = 191, Validation Accuracy : 0.1613779059901578\n"
          ]
        },
        {
          "output_type": "stream",
          "name": "stderr",
          "text": [
            "\r 64%|██████▍   | 193/300 [02:21<01:19,  1.34it/s]"
          ]
        },
        {
          "output_type": "stream",
          "name": "stdout",
          "text": [
            "Epochs = 192, Training Loss : 7.913340580614308; Training Accuracy: 0.291136556403732.\n",
            "Epochs = 192, Validation Accuracy : 0.15968097743085016\n"
          ]
        },
        {
          "output_type": "stream",
          "name": "stderr",
          "text": [
            "\r 65%|██████▍   | 194/300 [02:21<01:18,  1.35it/s]"
          ]
        },
        {
          "output_type": "stream",
          "name": "stdout",
          "text": [
            "Epochs = 193, Training Loss : 7.914156156250193; Training Accuracy: 0.2916030534351145.\n",
            "Epochs = 193, Validation Accuracy : 0.15866282029526557\n"
          ]
        },
        {
          "output_type": "stream",
          "name": "stderr",
          "text": [
            "\r 65%|██████▌   | 195/300 [02:22<01:17,  1.36it/s]"
          ]
        },
        {
          "output_type": "stream",
          "name": "stdout",
          "text": [
            "Epochs = 194, Training Loss : 7.913932202737542; Training Accuracy: 0.2910941475826972.\n",
            "Epochs = 194, Validation Accuracy : 0.16154759884608857\n"
          ]
        },
        {
          "output_type": "stream",
          "name": "stderr",
          "text": [
            "\r 65%|██████▌   | 196/300 [02:23<01:15,  1.37it/s]"
          ]
        },
        {
          "output_type": "stream",
          "name": "stdout",
          "text": [
            "Epochs = 195, Training Loss : 7.912413657466067; Training Accuracy: 0.29274809160305343.\n",
            "Epochs = 195, Validation Accuracy : 0.1590022060071271\n"
          ]
        },
        {
          "output_type": "stream",
          "name": "stderr",
          "text": [
            "\r 66%|██████▌   | 197/300 [02:24<01:15,  1.37it/s]"
          ]
        },
        {
          "output_type": "stream",
          "name": "stdout",
          "text": [
            "Epochs = 196, Training Loss : 7.913070757177811; Training Accuracy: 0.29202714164546223.\n",
            "Epochs = 196, Validation Accuracy : 0.16069913456643475\n"
          ]
        },
        {
          "output_type": "stream",
          "name": "stderr",
          "text": [
            "\r 66%|██████▌   | 198/300 [02:24<01:14,  1.37it/s]"
          ]
        },
        {
          "output_type": "stream",
          "name": "stdout",
          "text": [
            "Epochs = 197, Training Loss : 7.914291034770917; Training Accuracy: 0.2918150975402884.\n",
            "Epochs = 197, Validation Accuracy : 0.15985067028678093\n"
          ]
        },
        {
          "output_type": "stream",
          "name": "stderr",
          "text": [
            "\r 66%|██████▋   | 199/300 [02:25<01:13,  1.37it/s]"
          ]
        },
        {
          "output_type": "stream",
          "name": "stdout",
          "text": [
            "Epochs = 198, Training Loss : 7.913087030000325; Training Accuracy: 0.29304495335029684.\n",
            "Epochs = 198, Validation Accuracy : 0.16069913456643475\n"
          ]
        },
        {
          "output_type": "stream",
          "name": "stderr",
          "text": [
            "\r 67%|██████▋   | 200/300 [02:26<01:13,  1.36it/s]"
          ]
        },
        {
          "output_type": "stream",
          "name": "stdout",
          "text": [
            "Epochs = 199, Training Loss : 7.9146775776826885; Training Accuracy: 0.2918150975402884.\n",
            "Epochs = 199, Validation Accuracy : 0.16222637026981165\n"
          ]
        },
        {
          "output_type": "stream",
          "name": "stderr",
          "text": [
            "\r 67%|██████▋   | 201/300 [02:26<01:11,  1.38it/s]"
          ]
        },
        {
          "output_type": "stream",
          "name": "stdout",
          "text": [
            "Epochs = 200, Training Loss : 7.91148786605159; Training Accuracy: 0.29359626802374894.\n",
            "Epochs = 200, Validation Accuracy : 0.16188698455795011\n"
          ]
        },
        {
          "output_type": "stream",
          "name": "stderr",
          "text": [
            "\r 67%|██████▋   | 202/300 [02:27<01:11,  1.38it/s]"
          ]
        },
        {
          "output_type": "stream",
          "name": "stdout",
          "text": [
            "Epochs = 201, Training Loss : 7.911168315742589; Training Accuracy: 0.29376590330788804.\n",
            "Epochs = 201, Validation Accuracy : 0.1610385202782963\n"
          ]
        },
        {
          "output_type": "stream",
          "name": "stderr",
          "text": [
            "\r 68%|██████▊   | 203/300 [02:28<01:10,  1.37it/s]"
          ]
        },
        {
          "output_type": "stream",
          "name": "stdout",
          "text": [
            "Epochs = 202, Training Loss : 7.912058579770824; Training Accuracy: 0.2943596268023749.\n",
            "Epochs = 202, Validation Accuracy : 0.163414220261327\n"
          ]
        },
        {
          "output_type": "stream",
          "name": "stderr",
          "text": [
            "\r 68%|██████▊   | 204/300 [02:29<01:10,  1.36it/s]"
          ]
        },
        {
          "output_type": "stream",
          "name": "stdout",
          "text": [
            "Epochs = 203, Training Loss : 7.911891780322111; Training Accuracy: 0.2933418150975403.\n",
            "Epochs = 203, Validation Accuracy : 0.16324452740539624\n"
          ]
        },
        {
          "output_type": "stream",
          "name": "stderr",
          "text": [
            "\r 68%|██████▊   | 205/300 [02:29<01:10,  1.36it/s]"
          ]
        },
        {
          "output_type": "stream",
          "name": "stdout",
          "text": [
            "Epochs = 204, Training Loss : 7.911463121824626; Training Accuracy: 0.2931297709923664.\n",
            "Epochs = 204, Validation Accuracy : 0.16222637026981165\n"
          ]
        },
        {
          "output_type": "stream",
          "name": "stderr",
          "text": [
            "\r 69%|██████▊   | 206/300 [02:30<01:09,  1.36it/s]"
          ]
        },
        {
          "output_type": "stream",
          "name": "stdout",
          "text": [
            "Epochs = 205, Training Loss : 7.910237768028356; Training Accuracy: 0.29499575911789655.\n",
            "Epochs = 205, Validation Accuracy : 0.16273544883760394\n"
          ]
        },
        {
          "output_type": "stream",
          "name": "stderr",
          "text": [
            "\r 69%|██████▉   | 207/300 [02:31<01:08,  1.35it/s]"
          ]
        },
        {
          "output_type": "stream",
          "name": "stdout",
          "text": [
            "Epochs = 206, Training Loss : 7.912245177015474; Training Accuracy: 0.2931721798134012.\n",
            "Epochs = 206, Validation Accuracy : 0.16256575598167317\n"
          ]
        },
        {
          "output_type": "stream",
          "name": "stderr",
          "text": [
            "\r 69%|██████▉   | 208/300 [02:32<01:08,  1.34it/s]"
          ]
        },
        {
          "output_type": "stream",
          "name": "stdout",
          "text": [
            "Epochs = 207, Training Loss : 7.911291777333127; Training Accuracy: 0.29389312977099236.\n",
            "Epochs = 207, Validation Accuracy : 0.1610385202782963\n"
          ]
        },
        {
          "output_type": "stream",
          "name": "stderr",
          "text": [
            "\r 70%|██████▉   | 209/300 [02:32<01:07,  1.35it/s]"
          ]
        },
        {
          "output_type": "stream",
          "name": "stdout",
          "text": [
            "Epochs = 208, Training Loss : 7.911075531681882; Training Accuracy: 0.29346904156064463.\n",
            "Epochs = 208, Validation Accuracy : 0.16324452740539624\n"
          ]
        },
        {
          "output_type": "stream",
          "name": "stderr",
          "text": [
            "\r 70%|███████   | 210/300 [02:33<01:06,  1.35it/s]"
          ]
        },
        {
          "output_type": "stream",
          "name": "stdout",
          "text": [
            "Epochs = 209, Training Loss : 7.910096935079068; Training Accuracy: 0.2955894826123834.\n",
            "Epochs = 209, Validation Accuracy : 0.16256575598167317\n"
          ]
        },
        {
          "output_type": "stream",
          "name": "stderr",
          "text": [
            "\r 70%|███████   | 211/300 [02:34<01:05,  1.35it/s]"
          ]
        },
        {
          "output_type": "stream",
          "name": "stdout",
          "text": [
            "Epochs = 210, Training Loss : 7.909997224807739; Training Accuracy: 0.2950381679389313.\n",
            "Epochs = 210, Validation Accuracy : 0.16188698455795011\n"
          ]
        },
        {
          "output_type": "stream",
          "name": "stderr",
          "text": [
            "\r 71%|███████   | 212/300 [02:35<01:04,  1.36it/s]"
          ]
        },
        {
          "output_type": "stream",
          "name": "stdout",
          "text": [
            "Epochs = 211, Training Loss : 7.909666393376604; Training Accuracy: 0.2951653944020356.\n",
            "Epochs = 211, Validation Accuracy : 0.1629051416935347\n"
          ]
        },
        {
          "output_type": "stream",
          "name": "stderr",
          "text": [
            "\r 71%|███████   | 213/300 [02:35<01:03,  1.37it/s]"
          ]
        },
        {
          "output_type": "stream",
          "name": "stdout",
          "text": [
            "Epochs = 212, Training Loss : 7.909205454814283; Training Accuracy: 0.2958015267175573.\n",
            "Epochs = 212, Validation Accuracy : 0.16460207025284235\n"
          ]
        },
        {
          "output_type": "stream",
          "name": "stderr",
          "text": [
            "\r 71%|███████▏  | 214/300 [02:36<01:02,  1.37it/s]"
          ]
        },
        {
          "output_type": "stream",
          "name": "stdout",
          "text": [
            "Epochs = 213, Training Loss : 7.910901830166201; Training Accuracy: 0.29368108566581846.\n",
            "Epochs = 213, Validation Accuracy : 0.16460207025284235\n"
          ]
        },
        {
          "output_type": "stream",
          "name": "stderr",
          "text": [
            "\r 72%|███████▏  | 215/300 [02:37<01:02,  1.36it/s]"
          ]
        },
        {
          "output_type": "stream",
          "name": "stdout",
          "text": [
            "Epochs = 214, Training Loss : 7.90972123568571; Training Accuracy: 0.295843935538592.\n",
            "Epochs = 214, Validation Accuracy : 0.16222637026981165\n"
          ]
        },
        {
          "output_type": "stream",
          "name": "stderr",
          "text": [
            "\r 72%|███████▏  | 216/300 [02:37<01:01,  1.37it/s]"
          ]
        },
        {
          "output_type": "stream",
          "name": "stdout",
          "text": [
            "Epochs = 215, Training Loss : 7.908699826349186; Training Accuracy: 0.2963528413910093.\n",
            "Epochs = 215, Validation Accuracy : 0.16562022738842694\n"
          ]
        },
        {
          "output_type": "stream",
          "name": "stderr",
          "text": [
            "\r 72%|███████▏  | 217/300 [02:38<01:00,  1.37it/s]"
          ]
        },
        {
          "output_type": "stream",
          "name": "stdout",
          "text": [
            "Epochs = 216, Training Loss : 7.909449381164357; Training Accuracy: 0.2958863443596268.\n",
            "Epochs = 216, Validation Accuracy : 0.16375360597318853\n"
          ]
        },
        {
          "output_type": "stream",
          "name": "stderr",
          "text": [
            "\r 73%|███████▎  | 218/300 [02:39<01:00,  1.36it/s]"
          ]
        },
        {
          "output_type": "stream",
          "name": "stdout",
          "text": [
            "Epochs = 217, Training Loss : 7.909718978254101; Training Accuracy: 0.2961832061068702.\n",
            "Epochs = 217, Validation Accuracy : 0.16358391311725776\n"
          ]
        },
        {
          "output_type": "stream",
          "name": "stderr",
          "text": [
            "\r 73%|███████▎  | 219/300 [02:40<00:59,  1.36it/s]"
          ]
        },
        {
          "output_type": "stream",
          "name": "stdout",
          "text": [
            "Epochs = 218, Training Loss : 7.909179874613315; Training Accuracy: 0.2964376590330789.\n",
            "Epochs = 218, Validation Accuracy : 0.16324452740539624\n"
          ]
        },
        {
          "output_type": "stream",
          "name": "stderr",
          "text": [
            "\r 73%|███████▎  | 220/300 [02:40<00:58,  1.36it/s]"
          ]
        },
        {
          "output_type": "stream",
          "name": "stdout",
          "text": [
            "Epochs = 219, Training Loss : 7.9089805928966666; Training Accuracy: 0.2958015267175573.\n",
            "Epochs = 219, Validation Accuracy : 0.16188698455795011\n"
          ]
        },
        {
          "output_type": "stream",
          "name": "stderr",
          "text": [
            "\r 74%|███████▎  | 221/300 [02:41<00:57,  1.36it/s]"
          ]
        },
        {
          "output_type": "stream",
          "name": "stdout",
          "text": [
            "Epochs = 220, Training Loss : 7.907539747938325; Training Accuracy: 0.29664970313825273.\n",
            "Epochs = 220, Validation Accuracy : 0.16460207025284235\n"
          ]
        },
        {
          "output_type": "stream",
          "name": "stderr",
          "text": [
            "\r 74%|███████▍  | 222/300 [02:42<00:57,  1.35it/s]"
          ]
        },
        {
          "output_type": "stream",
          "name": "stdout",
          "text": [
            "Epochs = 221, Training Loss : 7.908429079417941; Training Accuracy: 0.296607294317218.\n",
            "Epochs = 221, Validation Accuracy : 0.16256575598167317\n"
          ]
        },
        {
          "output_type": "stream",
          "name": "stderr",
          "text": [
            "\r 74%|███████▍  | 223/300 [02:43<00:56,  1.36it/s]"
          ]
        },
        {
          "output_type": "stream",
          "name": "stdout",
          "text": [
            "Epochs = 222, Training Loss : 7.9083006261270254; Training Accuracy: 0.2977947413061917.\n",
            "Epochs = 222, Validation Accuracy : 0.16324452740539624\n"
          ]
        },
        {
          "output_type": "stream",
          "name": "stderr",
          "text": [
            "\r 75%|███████▍  | 224/300 [02:43<00:55,  1.37it/s]"
          ]
        },
        {
          "output_type": "stream",
          "name": "stdout",
          "text": [
            "Epochs = 223, Training Loss : 7.907987648927713; Training Accuracy: 0.29754028837998303.\n",
            "Epochs = 223, Validation Accuracy : 0.16629899881215002\n"
          ]
        },
        {
          "output_type": "stream",
          "name": "stderr",
          "text": [
            "\r 75%|███████▌  | 225/300 [02:44<00:54,  1.37it/s]"
          ]
        },
        {
          "output_type": "stream",
          "name": "stdout",
          "text": [
            "Epochs = 224, Training Loss : 7.909169628650328; Training Accuracy: 0.2961407972858355.\n",
            "Epochs = 224, Validation Accuracy : 0.16443237739691158\n"
          ]
        },
        {
          "output_type": "stream",
          "name": "stderr",
          "text": [
            "\r 75%|███████▌  | 226/300 [02:45<00:54,  1.36it/s]"
          ]
        },
        {
          "output_type": "stream",
          "name": "stdout",
          "text": [
            "Epochs = 225, Training Loss : 7.909742916686626; Training Accuracy: 0.2950805767599661.\n",
            "Epochs = 225, Validation Accuracy : 0.16528084167656543\n"
          ]
        },
        {
          "output_type": "stream",
          "name": "stderr",
          "text": [
            "\r 76%|███████▌  | 227/300 [02:46<00:53,  1.37it/s]"
          ]
        },
        {
          "output_type": "stream",
          "name": "stdout",
          "text": [
            "Epochs = 226, Training Loss : 7.908789848979516; Training Accuracy: 0.29681933842239183.\n",
            "Epochs = 226, Validation Accuracy : 0.16171729170201934\n"
          ]
        },
        {
          "output_type": "stream",
          "name": "stderr",
          "text": [
            "\r 76%|███████▌  | 228/300 [02:46<00:52,  1.36it/s]"
          ]
        },
        {
          "output_type": "stream",
          "name": "stdout",
          "text": [
            "Epochs = 227, Training Loss : 7.908726396439951; Training Accuracy: 0.2965224766751484.\n",
            "Epochs = 227, Validation Accuracy : 0.16273544883760394\n"
          ]
        },
        {
          "output_type": "stream",
          "name": "stderr",
          "text": [
            "\r 76%|███████▋  | 229/300 [02:47<00:51,  1.37it/s]"
          ]
        },
        {
          "output_type": "stream",
          "name": "stdout",
          "text": [
            "Epochs = 228, Training Loss : 7.907261957096148; Training Accuracy: 0.29737065309584393.\n",
            "Epochs = 228, Validation Accuracy : 0.16307483454946547\n"
          ]
        },
        {
          "output_type": "stream",
          "name": "stderr",
          "text": [
            "\r 77%|███████▋  | 230/300 [02:48<00:51,  1.36it/s]"
          ]
        },
        {
          "output_type": "stream",
          "name": "stdout",
          "text": [
            "Epochs = 229, Training Loss : 7.908561978159072; Training Accuracy: 0.2963528413910093.\n",
            "Epochs = 229, Validation Accuracy : 0.16171729170201934\n"
          ]
        },
        {
          "output_type": "stream",
          "name": "stderr",
          "text": [
            "\r 77%|███████▋  | 231/300 [02:48<00:50,  1.35it/s]"
          ]
        },
        {
          "output_type": "stream",
          "name": "stdout",
          "text": [
            "Epochs = 230, Training Loss : 7.909416165532945; Training Accuracy: 0.2962680237489398.\n",
            "Epochs = 230, Validation Accuracy : 0.16307483454946547\n"
          ]
        },
        {
          "output_type": "stream",
          "name": "stderr",
          "text": [
            "\r 77%|███████▋  | 232/300 [02:49<00:49,  1.36it/s]"
          ]
        },
        {
          "output_type": "stream",
          "name": "stdout",
          "text": [
            "Epochs = 231, Training Loss : 7.908534424214423; Training Accuracy: 0.2972858354537744.\n",
            "Epochs = 231, Validation Accuracy : 0.16120821313422704\n"
          ]
        },
        {
          "output_type": "stream",
          "name": "stderr",
          "text": [
            "\r 78%|███████▊  | 233/300 [02:50<00:49,  1.35it/s]"
          ]
        },
        {
          "output_type": "stream",
          "name": "stdout",
          "text": [
            "Epochs = 232, Training Loss : 7.9066671299029; Training Accuracy: 0.29787955894826124.\n",
            "Epochs = 232, Validation Accuracy : 0.1639232988291193\n"
          ]
        },
        {
          "output_type": "stream",
          "name": "stderr",
          "text": [
            "\r 78%|███████▊  | 234/300 [02:51<00:48,  1.36it/s]"
          ]
        },
        {
          "output_type": "stream",
          "name": "stdout",
          "text": [
            "Epochs = 233, Training Loss : 7.906429010101512; Training Accuracy: 0.29838846480067854.\n",
            "Epochs = 233, Validation Accuracy : 0.16171729170201934\n"
          ]
        },
        {
          "output_type": "stream",
          "name": "stderr",
          "text": [
            "\r 78%|███████▊  | 235/300 [02:51<00:47,  1.37it/s]"
          ]
        },
        {
          "output_type": "stream",
          "name": "stdout",
          "text": [
            "Epochs = 234, Training Loss : 7.90682677679424; Training Accuracy: 0.2972858354537744.\n",
            "Epochs = 234, Validation Accuracy : 0.16222637026981165\n"
          ]
        },
        {
          "output_type": "stream",
          "name": "stderr",
          "text": [
            "\r 79%|███████▊  | 236/300 [02:52<00:46,  1.37it/s]"
          ]
        },
        {
          "output_type": "stream",
          "name": "stdout",
          "text": [
            "Epochs = 235, Training Loss : 7.907360288161266; Training Accuracy: 0.2977947413061917.\n",
            "Epochs = 235, Validation Accuracy : 0.16273544883760394\n"
          ]
        },
        {
          "output_type": "stream",
          "name": "stderr",
          "text": [
            "\r 79%|███████▉  | 237/300 [02:53<00:46,  1.35it/s]"
          ]
        },
        {
          "output_type": "stream",
          "name": "stdout",
          "text": [
            "Epochs = 236, Training Loss : 7.9069612207292; Training Accuracy: 0.29817642069550465.\n",
            "Epochs = 236, Validation Accuracy : 0.16120821313422704\n"
          ]
        },
        {
          "output_type": "stream",
          "name": "stderr",
          "text": [
            "\r 79%|███████▉  | 238/300 [02:54<00:45,  1.36it/s]"
          ]
        },
        {
          "output_type": "stream",
          "name": "stdout",
          "text": [
            "Epochs = 237, Training Loss : 7.907456235040592; Training Accuracy: 0.2979643765903308.\n",
            "Epochs = 237, Validation Accuracy : 0.1595112845749194\n"
          ]
        },
        {
          "output_type": "stream",
          "name": "stderr",
          "text": [
            "\r 80%|███████▉  | 239/300 [02:54<00:44,  1.36it/s]"
          ]
        },
        {
          "output_type": "stream",
          "name": "stdout",
          "text": [
            "Epochs = 238, Training Loss : 7.90672237058229; Training Accuracy: 0.29817642069550465.\n",
            "Epochs = 238, Validation Accuracy : 0.16120821313422704\n"
          ]
        },
        {
          "output_type": "stream",
          "name": "stderr",
          "text": [
            "\r 80%|████████  | 240/300 [02:55<00:44,  1.36it/s]"
          ]
        },
        {
          "output_type": "stream",
          "name": "stdout",
          "text": [
            "Epochs = 239, Training Loss : 7.907130694087548; Training Accuracy: 0.29732824427480914.\n",
            "Epochs = 239, Validation Accuracy : 0.15917189886305785\n"
          ]
        },
        {
          "output_type": "stream",
          "name": "stderr",
          "text": [
            "\r 80%|████████  | 241/300 [02:56<00:43,  1.37it/s]"
          ]
        },
        {
          "output_type": "stream",
          "name": "stdout",
          "text": [
            "Epochs = 240, Training Loss : 7.905489849138863; Training Accuracy: 0.29940627650551316.\n",
            "Epochs = 240, Validation Accuracy : 0.1584931274393348\n"
          ]
        },
        {
          "output_type": "stream",
          "name": "stderr",
          "text": [
            "\r 81%|████████  | 242/300 [02:57<00:42,  1.36it/s]"
          ]
        },
        {
          "output_type": "stream",
          "name": "stdout",
          "text": [
            "Epochs = 241, Training Loss : 7.9059145360053344; Training Accuracy: 0.2989821882951654.\n",
            "Epochs = 241, Validation Accuracy : 0.16154759884608857\n"
          ]
        },
        {
          "output_type": "stream",
          "name": "stderr",
          "text": [
            "\r 81%|████████  | 243/300 [02:57<00:41,  1.37it/s]"
          ]
        },
        {
          "output_type": "stream",
          "name": "stdout",
          "text": [
            "Epochs = 242, Training Loss : 7.90678986718383; Training Accuracy: 0.29847328244274807.\n",
            "Epochs = 242, Validation Accuracy : 0.1600203631427117\n"
          ]
        },
        {
          "output_type": "stream",
          "name": "stderr",
          "text": [
            "\r 81%|████████▏ | 244/300 [02:58<00:41,  1.36it/s]"
          ]
        },
        {
          "output_type": "stream",
          "name": "stdout",
          "text": [
            "Epochs = 243, Training Loss : 7.906834566140477; Training Accuracy: 0.29851569126378286.\n",
            "Epochs = 243, Validation Accuracy : 0.1610385202782963\n"
          ]
        },
        {
          "output_type": "stream",
          "name": "stderr",
          "text": [
            "\r 82%|████████▏ | 245/300 [02:59<00:40,  1.36it/s]"
          ]
        },
        {
          "output_type": "stream",
          "name": "stdout",
          "text": [
            "Epochs = 244, Training Loss : 7.906942527505416; Training Accuracy: 0.29893977947413064.\n",
            "Epochs = 244, Validation Accuracy : 0.16358391311725776\n"
          ]
        },
        {
          "output_type": "stream",
          "name": "stderr",
          "text": [
            "\r 82%|████████▏ | 246/300 [03:00<00:39,  1.36it/s]"
          ]
        },
        {
          "output_type": "stream",
          "name": "stdout",
          "text": [
            "Epochs = 245, Training Loss : 7.906421084947224; Training Accuracy: 0.29902459711620016.\n",
            "Epochs = 245, Validation Accuracy : 0.16358391311725776\n"
          ]
        },
        {
          "output_type": "stream",
          "name": "stderr",
          "text": [
            "\r 82%|████████▏ | 247/300 [03:00<00:38,  1.37it/s]"
          ]
        },
        {
          "output_type": "stream",
          "name": "stdout",
          "text": [
            "Epochs = 246, Training Loss : 7.906132954585401; Training Accuracy: 0.2998303647158609.\n",
            "Epochs = 246, Validation Accuracy : 0.1595112845749194\n"
          ]
        },
        {
          "output_type": "stream",
          "name": "stderr",
          "text": [
            "\r 83%|████████▎ | 248/300 [03:01<00:37,  1.37it/s]"
          ]
        },
        {
          "output_type": "stream",
          "name": "stdout",
          "text": [
            "Epochs = 247, Training Loss : 7.9057843504072745; Training Accuracy: 0.29974554707379136.\n",
            "Epochs = 247, Validation Accuracy : 0.16256575598167317\n"
          ]
        },
        {
          "output_type": "stream",
          "name": "stderr",
          "text": [
            "\r 83%|████████▎ | 249/300 [03:02<00:36,  1.38it/s]"
          ]
        },
        {
          "output_type": "stream",
          "name": "stdout",
          "text": [
            "Epochs = 248, Training Loss : 7.906817750085758; Training Accuracy: 0.29826123833757423.\n",
            "Epochs = 248, Validation Accuracy : 0.15985067028678093\n"
          ]
        },
        {
          "output_type": "stream",
          "name": "stderr",
          "text": [
            "\r 83%|████████▎ | 250/300 [03:02<00:36,  1.37it/s]"
          ]
        },
        {
          "output_type": "stream",
          "name": "stdout",
          "text": [
            "Epochs = 249, Training Loss : 7.906004012385501; Training Accuracy: 0.29919423240033927.\n",
            "Epochs = 249, Validation Accuracy : 0.16120821313422704\n"
          ]
        },
        {
          "output_type": "stream",
          "name": "stderr",
          "text": [
            "\r 84%|████████▎ | 251/300 [03:03<00:35,  1.37it/s]"
          ]
        },
        {
          "output_type": "stream",
          "name": "stdout",
          "text": [
            "Epochs = 250, Training Loss : 7.905745741687244; Training Accuracy: 0.29957591178965226.\n",
            "Epochs = 250, Validation Accuracy : 0.16171729170201934\n"
          ]
        },
        {
          "output_type": "stream",
          "name": "stderr",
          "text": [
            "\r 84%|████████▍ | 252/300 [03:04<00:35,  1.37it/s]"
          ]
        },
        {
          "output_type": "stream",
          "name": "stdout",
          "text": [
            "Epochs = 251, Training Loss : 7.905549634861041; Training Accuracy: 0.29851569126378286.\n",
            "Epochs = 251, Validation Accuracy : 0.16019005599864244\n"
          ]
        },
        {
          "output_type": "stream",
          "name": "stderr",
          "text": [
            "\r 84%|████████▍ | 253/300 [03:05<00:34,  1.35it/s]"
          ]
        },
        {
          "output_type": "stream",
          "name": "stdout",
          "text": [
            "Epochs = 252, Training Loss : 7.9052715542950205; Training Accuracy: 0.29927905004240885.\n",
            "Epochs = 252, Validation Accuracy : 0.15934159171898862\n"
          ]
        },
        {
          "output_type": "stream",
          "name": "stderr",
          "text": [
            "\r 85%|████████▍ | 254/300 [03:05<00:33,  1.36it/s]"
          ]
        },
        {
          "output_type": "stream",
          "name": "stdout",
          "text": [
            "Epochs = 253, Training Loss : 7.90578578997262; Training Accuracy: 0.2993214588634436.\n",
            "Epochs = 253, Validation Accuracy : 0.16069913456643475\n"
          ]
        },
        {
          "output_type": "stream",
          "name": "stderr",
          "text": [
            "\r 85%|████████▌ | 255/300 [03:06<00:33,  1.36it/s]"
          ]
        },
        {
          "output_type": "stream",
          "name": "stdout",
          "text": [
            "Epochs = 254, Training Loss : 7.904736114453666; Training Accuracy: 0.3001696352841391.\n",
            "Epochs = 254, Validation Accuracy : 0.16307483454946547\n"
          ]
        },
        {
          "output_type": "stream",
          "name": "stderr",
          "text": [
            "\r 85%|████████▌ | 256/300 [03:07<00:32,  1.36it/s]"
          ]
        },
        {
          "output_type": "stream",
          "name": "stdout",
          "text": [
            "Epochs = 255, Training Loss : 7.904996826678892; Training Accuracy: 0.30008481764206957.\n",
            "Epochs = 255, Validation Accuracy : 0.16409299168505007\n"
          ]
        },
        {
          "output_type": "stream",
          "name": "stderr",
          "text": [
            "\r 86%|████████▌ | 257/300 [03:08<00:31,  1.36it/s]"
          ]
        },
        {
          "output_type": "stream",
          "name": "stdout",
          "text": [
            "Epochs = 256, Training Loss : 7.905993639668332; Training Accuracy: 0.29868532654792196.\n",
            "Epochs = 256, Validation Accuracy : 0.16256575598167317\n"
          ]
        },
        {
          "output_type": "stream",
          "name": "stderr",
          "text": [
            "\r 86%|████████▌ | 258/300 [03:08<00:30,  1.36it/s]"
          ]
        },
        {
          "output_type": "stream",
          "name": "stdout",
          "text": [
            "Epochs = 257, Training Loss : 7.905818106252936; Training Accuracy: 0.29927905004240885.\n",
            "Epochs = 257, Validation Accuracy : 0.16222637026981165\n"
          ]
        },
        {
          "output_type": "stream",
          "name": "stderr",
          "text": [
            "\r 86%|████████▋ | 259/300 [03:09<00:30,  1.35it/s]"
          ]
        },
        {
          "output_type": "stream",
          "name": "stdout",
          "text": [
            "Epochs = 258, Training Loss : 7.906028427655184; Training Accuracy: 0.29957591178965226.\n",
            "Epochs = 258, Validation Accuracy : 0.16052944171050398\n"
          ]
        },
        {
          "output_type": "stream",
          "name": "stderr",
          "text": [
            "\r 87%|████████▋ | 260/300 [03:10<00:29,  1.36it/s]"
          ]
        },
        {
          "output_type": "stream",
          "name": "stdout",
          "text": [
            "Epochs = 259, Training Loss : 7.904973075359682; Training Accuracy: 0.2999575911789652.\n",
            "Epochs = 259, Validation Accuracy : 0.15934159171898862\n"
          ]
        },
        {
          "output_type": "stream",
          "name": "stderr",
          "text": [
            "\r 87%|████████▋ | 261/300 [03:11<00:28,  1.35it/s]"
          ]
        },
        {
          "output_type": "stream",
          "name": "stdout",
          "text": [
            "Epochs = 260, Training Loss : 7.904692471781863; Training Accuracy: 0.29910941475826974.\n",
            "Epochs = 260, Validation Accuracy : 0.15781435601561175\n"
          ]
        },
        {
          "output_type": "stream",
          "name": "stderr",
          "text": [
            "\r 87%|████████▋ | 262/300 [03:11<00:27,  1.37it/s]"
          ]
        },
        {
          "output_type": "stream",
          "name": "stdout",
          "text": [
            "Epochs = 261, Training Loss : 7.904726131052911; Training Accuracy: 0.3005937234944869.\n",
            "Epochs = 261, Validation Accuracy : 0.15866282029526557\n"
          ]
        },
        {
          "output_type": "stream",
          "name": "stderr",
          "text": [
            "\r 88%|████████▊ | 263/300 [03:12<00:27,  1.36it/s]"
          ]
        },
        {
          "output_type": "stream",
          "name": "stdout",
          "text": [
            "Epochs = 262, Training Loss : 7.903531566450868; Training Accuracy: 0.30127226463104323.\n",
            "Epochs = 262, Validation Accuracy : 0.15815374172747326\n"
          ]
        },
        {
          "output_type": "stream",
          "name": "stderr",
          "text": [
            "\r 88%|████████▊ | 264/300 [03:13<00:26,  1.35it/s]"
          ]
        },
        {
          "output_type": "stream",
          "name": "stdout",
          "text": [
            "Epochs = 263, Training Loss : 7.903581598136999; Training Accuracy: 0.3009754028837998.\n",
            "Epochs = 263, Validation Accuracy : 0.15968097743085016\n"
          ]
        },
        {
          "output_type": "stream",
          "name": "stderr",
          "text": [
            "\r 88%|████████▊ | 265/300 [03:13<00:25,  1.35it/s]"
          ]
        },
        {
          "output_type": "stream",
          "name": "stdout",
          "text": [
            "Epochs = 264, Training Loss : 7.903628575650951; Training Accuracy: 0.3013570822731128.\n",
            "Epochs = 264, Validation Accuracy : 0.15968097743085016\n"
          ]
        },
        {
          "output_type": "stream",
          "name": "stderr",
          "text": [
            "\r 89%|████████▊ | 266/300 [03:14<00:25,  1.35it/s]"
          ]
        },
        {
          "output_type": "stream",
          "name": "stdout",
          "text": [
            "Epochs = 265, Training Loss : 7.904376205009751; Training Accuracy: 0.3008905852417303.\n",
            "Epochs = 265, Validation Accuracy : 0.15866282029526557\n"
          ]
        },
        {
          "output_type": "stream",
          "name": "stderr",
          "text": [
            "\r 89%|████████▉ | 267/300 [03:15<00:24,  1.35it/s]"
          ]
        },
        {
          "output_type": "stream",
          "name": "stdout",
          "text": [
            "Epochs = 266, Training Loss : 7.904789677149133; Training Accuracy: 0.3013570822731128.\n",
            "Epochs = 266, Validation Accuracy : 0.15934159171898862\n"
          ]
        },
        {
          "output_type": "stream",
          "name": "stderr",
          "text": [
            "\r 89%|████████▉ | 268/300 [03:16<00:23,  1.35it/s]"
          ]
        },
        {
          "output_type": "stream",
          "name": "stdout",
          "text": [
            "Epochs = 267, Training Loss : 7.9049737121485455; Training Accuracy: 0.3002968617472434.\n",
            "Epochs = 267, Validation Accuracy : 0.1590022060071271\n"
          ]
        },
        {
          "output_type": "stream",
          "name": "stderr",
          "text": [
            "\r 90%|████████▉ | 269/300 [03:16<00:22,  1.36it/s]"
          ]
        },
        {
          "output_type": "stream",
          "name": "stdout",
          "text": [
            "Epochs = 268, Training Loss : 7.903929502149172; Training Accuracy: 0.3008481764206955.\n",
            "Epochs = 268, Validation Accuracy : 0.1584931274393348\n"
          ]
        },
        {
          "output_type": "stream",
          "name": "stderr",
          "text": [
            "\r 90%|█████████ | 270/300 [03:17<00:22,  1.34it/s]"
          ]
        },
        {
          "output_type": "stream",
          "name": "stdout",
          "text": [
            "Epochs = 269, Training Loss : 7.905671762514718; Training Accuracy: 0.2989821882951654.\n",
            "Epochs = 269, Validation Accuracy : 0.16154759884608857\n"
          ]
        },
        {
          "output_type": "stream",
          "name": "stderr",
          "text": [
            "\r 90%|█████████ | 271/300 [03:18<00:21,  1.35it/s]"
          ]
        },
        {
          "output_type": "stream",
          "name": "stdout",
          "text": [
            "Epochs = 270, Training Loss : 7.904107377498964; Training Accuracy: 0.3005937234944869.\n",
            "Epochs = 270, Validation Accuracy : 0.16205667741388088\n"
          ]
        },
        {
          "output_type": "stream",
          "name": "stderr",
          "text": [
            "\r 91%|█████████ | 272/300 [03:19<00:20,  1.34it/s]"
          ]
        },
        {
          "output_type": "stream",
          "name": "stdout",
          "text": [
            "Epochs = 271, Training Loss : 7.903984929941878; Training Accuracy: 0.3011450381679389.\n",
            "Epochs = 271, Validation Accuracy : 0.16273544883760394\n"
          ]
        },
        {
          "output_type": "stream",
          "name": "stderr",
          "text": [
            "\r 91%|█████████ | 273/300 [03:19<00:20,  1.34it/s]"
          ]
        },
        {
          "output_type": "stream",
          "name": "stdout",
          "text": [
            "Epochs = 272, Training Loss : 7.9034528339965435; Training Accuracy: 0.3011874469889737.\n",
            "Epochs = 272, Validation Accuracy : 0.1595112845749194\n"
          ]
        },
        {
          "output_type": "stream",
          "name": "stderr",
          "text": [
            "\r 91%|█████████▏| 274/300 [03:20<00:19,  1.34it/s]"
          ]
        },
        {
          "output_type": "stream",
          "name": "stdout",
          "text": [
            "Epochs = 273, Training Loss : 7.90511636794368; Training Accuracy: 0.300381679389313.\n",
            "Epochs = 273, Validation Accuracy : 0.15798404887154252\n"
          ]
        },
        {
          "output_type": "stream",
          "name": "stderr",
          "text": [
            "\r 92%|█████████▏| 275/300 [03:21<00:18,  1.36it/s]"
          ]
        },
        {
          "output_type": "stream",
          "name": "stdout",
          "text": [
            "Epochs = 274, Training Loss : 7.905035142657123; Training Accuracy: 0.3.\n",
            "Epochs = 274, Validation Accuracy : 0.15934159171898862\n"
          ]
        },
        {
          "output_type": "stream",
          "name": "stderr",
          "text": [
            "\r 92%|█████████▏| 276/300 [03:22<00:17,  1.36it/s]"
          ]
        },
        {
          "output_type": "stream",
          "name": "stdout",
          "text": [
            "Epochs = 275, Training Loss : 7.904818531833118; Training Accuracy: 0.29944868532654795.\n",
            "Epochs = 275, Validation Accuracy : 0.15968097743085016\n"
          ]
        },
        {
          "output_type": "stream",
          "name": "stderr",
          "text": [
            "\r 92%|█████████▏| 277/300 [03:22<00:16,  1.37it/s]"
          ]
        },
        {
          "output_type": "stream",
          "name": "stdout",
          "text": [
            "Epochs = 276, Training Loss : 7.903303508517109; Training Accuracy: 0.3010602205258694.\n",
            "Epochs = 276, Validation Accuracy : 0.15832343458340403\n"
          ]
        },
        {
          "output_type": "stream",
          "name": "stderr",
          "text": [
            "\r 93%|█████████▎| 278/300 [03:23<00:16,  1.36it/s]"
          ]
        },
        {
          "output_type": "stream",
          "name": "stdout",
          "text": [
            "Epochs = 277, Training Loss : 7.902994554254073; Training Accuracy: 0.30127226463104323.\n",
            "Epochs = 277, Validation Accuracy : 0.16086882742236552\n"
          ]
        },
        {
          "output_type": "stream",
          "name": "stderr",
          "text": [
            "\r 93%|█████████▎| 279/300 [03:24<00:15,  1.35it/s]"
          ]
        },
        {
          "output_type": "stream",
          "name": "stdout",
          "text": [
            "Epochs = 278, Training Loss : 7.903174886220618; Training Accuracy: 0.30161153519932143.\n",
            "Epochs = 278, Validation Accuracy : 0.16019005599864244\n"
          ]
        },
        {
          "output_type": "stream",
          "name": "stderr",
          "text": [
            "\r 93%|█████████▎| 280/300 [03:25<00:14,  1.37it/s]"
          ]
        },
        {
          "output_type": "stream",
          "name": "stdout",
          "text": [
            "Epochs = 279, Training Loss : 7.903502920005895; Training Accuracy: 0.3018235793044953.\n",
            "Epochs = 279, Validation Accuracy : 0.15934159171898862\n"
          ]
        },
        {
          "output_type": "stream",
          "name": "stderr",
          "text": [
            "\r 94%|█████████▎| 281/300 [03:25<00:13,  1.36it/s]"
          ]
        },
        {
          "output_type": "stream",
          "name": "stdout",
          "text": [
            "Epochs = 280, Training Loss : 7.903935803642756; Training Accuracy: 0.3007209499575912.\n",
            "Epochs = 280, Validation Accuracy : 0.16120821313422704\n"
          ]
        },
        {
          "output_type": "stream",
          "name": "stderr",
          "text": [
            "\r 94%|█████████▍| 282/300 [03:26<00:13,  1.36it/s]"
          ]
        },
        {
          "output_type": "stream",
          "name": "stdout",
          "text": [
            "Epochs = 281, Training Loss : 7.903456639639939; Training Accuracy: 0.3011874469889737.\n",
            "Epochs = 281, Validation Accuracy : 0.1584931274393348\n"
          ]
        },
        {
          "output_type": "stream",
          "name": "stderr",
          "text": [
            "\r 94%|█████████▍| 283/300 [03:27<00:12,  1.36it/s]"
          ]
        },
        {
          "output_type": "stream",
          "name": "stdout",
          "text": [
            "Epochs = 282, Training Loss : 7.904099238069752; Training Accuracy: 0.301314673452078.\n",
            "Epochs = 282, Validation Accuracy : 0.16086882742236552\n"
          ]
        },
        {
          "output_type": "stream",
          "name": "stderr",
          "text": [
            "\r 95%|█████████▍| 284/300 [03:28<00:11,  1.35it/s]"
          ]
        },
        {
          "output_type": "stream",
          "name": "stdout",
          "text": [
            "Epochs = 283, Training Loss : 7.902792583538007; Training Accuracy: 0.3025445292620865.\n",
            "Epochs = 283, Validation Accuracy : 0.15883251315119634\n"
          ]
        },
        {
          "output_type": "stream",
          "name": "stderr",
          "text": [
            "\r 95%|█████████▌| 285/300 [03:28<00:11,  1.35it/s]"
          ]
        },
        {
          "output_type": "stream",
          "name": "stdout",
          "text": [
            "Epochs = 284, Training Loss : 7.904455906228174; Training Accuracy: 0.3009329940627651.\n",
            "Epochs = 284, Validation Accuracy : 0.1595112845749194\n"
          ]
        },
        {
          "output_type": "stream",
          "name": "stderr",
          "text": [
            "\r 95%|█████████▌| 286/300 [03:29<00:10,  1.37it/s]"
          ]
        },
        {
          "output_type": "stream",
          "name": "stdout",
          "text": [
            "Epochs = 285, Training Loss : 7.903736537015891; Training Accuracy: 0.3015691263782867.\n",
            "Epochs = 285, Validation Accuracy : 0.1600203631427117\n"
          ]
        },
        {
          "output_type": "stream",
          "name": "stderr",
          "text": [
            "\r 96%|█████████▌| 287/300 [03:30<00:09,  1.36it/s]"
          ]
        },
        {
          "output_type": "stream",
          "name": "stdout",
          "text": [
            "Epochs = 286, Training Loss : 7.9033590721178655; Training Accuracy: 0.3011874469889737.\n",
            "Epochs = 286, Validation Accuracy : 0.1584931274393348\n"
          ]
        },
        {
          "output_type": "stream",
          "name": "stderr",
          "text": [
            "\r 96%|█████████▌| 288/300 [03:30<00:08,  1.35it/s]"
          ]
        },
        {
          "output_type": "stream",
          "name": "stdout",
          "text": [
            "Epochs = 287, Training Loss : 7.902285086957714; Training Accuracy: 0.3025869380831213.\n",
            "Epochs = 287, Validation Accuracy : 0.15917189886305785\n"
          ]
        },
        {
          "output_type": "stream",
          "name": "stderr",
          "text": [
            "\r 96%|█████████▋| 289/300 [03:31<00:08,  1.34it/s]"
          ]
        },
        {
          "output_type": "stream",
          "name": "stdout",
          "text": [
            "Epochs = 288, Training Loss : 7.9035038344467745; Training Accuracy: 0.3008905852417303.\n",
            "Epochs = 288, Validation Accuracy : 0.15985067028678093\n"
          ]
        },
        {
          "output_type": "stream",
          "name": "stderr",
          "text": [
            "\r 97%|█████████▋| 290/300 [03:32<00:07,  1.34it/s]"
          ]
        },
        {
          "output_type": "stream",
          "name": "stdout",
          "text": [
            "Epochs = 289, Training Loss : 7.902372070505649; Training Accuracy: 0.3025445292620865.\n",
            "Epochs = 289, Validation Accuracy : 0.16205667741388088\n"
          ]
        },
        {
          "output_type": "stream",
          "name": "stderr",
          "text": [
            "\r 97%|█████████▋| 291/300 [03:33<00:06,  1.35it/s]"
          ]
        },
        {
          "output_type": "stream",
          "name": "stdout",
          "text": [
            "Epochs = 290, Training Loss : 7.901940964445283; Training Accuracy: 0.30279898218829515.\n",
            "Epochs = 290, Validation Accuracy : 0.16035974885457321\n"
          ]
        },
        {
          "output_type": "stream",
          "name": "stderr",
          "text": [
            "\r 97%|█████████▋| 292/300 [03:33<00:05,  1.33it/s]"
          ]
        },
        {
          "output_type": "stream",
          "name": "stdout",
          "text": [
            "Epochs = 291, Training Loss : 7.901761275303515; Training Accuracy: 0.3023748939779474.\n",
            "Epochs = 291, Validation Accuracy : 0.16120821313422704\n"
          ]
        },
        {
          "output_type": "stream",
          "name": "stderr",
          "text": [
            "\r 98%|█████████▊| 293/300 [03:34<00:05,  1.34it/s]"
          ]
        },
        {
          "output_type": "stream",
          "name": "stdout",
          "text": [
            "Epochs = 292, Training Loss : 7.903039570096173; Training Accuracy: 0.30229007633587784.\n",
            "Epochs = 292, Validation Accuracy : 0.16154759884608857\n"
          ]
        },
        {
          "output_type": "stream",
          "name": "stderr",
          "text": [
            "\r 98%|█████████▊| 294/300 [03:35<00:04,  1.35it/s]"
          ]
        },
        {
          "output_type": "stream",
          "name": "stdout",
          "text": [
            "Epochs = 293, Training Loss : 7.901803255081177; Training Accuracy: 0.3024173027989822.\n",
            "Epochs = 293, Validation Accuracy : 0.16324452740539624\n"
          ]
        },
        {
          "output_type": "stream",
          "name": "stderr",
          "text": [
            "\r 98%|█████████▊| 295/300 [03:36<00:03,  1.36it/s]"
          ]
        },
        {
          "output_type": "stream",
          "name": "stdout",
          "text": [
            "Epochs = 294, Training Loss : 7.902473582497126; Training Accuracy: 0.30318066157760815.\n",
            "Epochs = 294, Validation Accuracy : 0.163414220261327\n"
          ]
        },
        {
          "output_type": "stream",
          "name": "stderr",
          "text": [
            "\r 99%|█████████▊| 296/300 [03:36<00:02,  1.36it/s]"
          ]
        },
        {
          "output_type": "stream",
          "name": "stdout",
          "text": [
            "Epochs = 295, Training Loss : 7.902273808853535; Training Accuracy: 0.30271416454622563.\n",
            "Epochs = 295, Validation Accuracy : 0.16324452740539624\n"
          ]
        },
        {
          "output_type": "stream",
          "name": "stderr",
          "text": [
            "\r 99%|█████████▉| 297/300 [03:37<00:02,  1.36it/s]"
          ]
        },
        {
          "output_type": "stream",
          "name": "stdout",
          "text": [
            "Epochs = 296, Training Loss : 7.902393169040922; Training Accuracy: 0.3025869380831213.\n",
            "Epochs = 296, Validation Accuracy : 0.16188698455795011\n"
          ]
        },
        {
          "output_type": "stream",
          "name": "stderr",
          "text": [
            "\r 99%|█████████▉| 298/300 [03:38<00:01,  1.35it/s]"
          ]
        },
        {
          "output_type": "stream",
          "name": "stdout",
          "text": [
            "Epochs = 297, Training Loss : 7.901748023455656; Training Accuracy: 0.30318066157760815.\n",
            "Epochs = 297, Validation Accuracy : 0.16205667741388088\n"
          ]
        },
        {
          "output_type": "stream",
          "name": "stderr",
          "text": [
            "\r100%|█████████▉| 299/300 [03:39<00:00,  1.35it/s]"
          ]
        },
        {
          "output_type": "stream",
          "name": "stdout",
          "text": [
            "Epochs = 298, Training Loss : 7.901761987541295; Training Accuracy: 0.3024173027989822.\n",
            "Epochs = 298, Validation Accuracy : 0.1629051416935347\n"
          ]
        },
        {
          "output_type": "stream",
          "name": "stderr",
          "text": [
            "100%|██████████| 300/300 [03:39<00:00,  1.36it/s]"
          ]
        },
        {
          "output_type": "stream",
          "name": "stdout",
          "text": [
            "Epochs = 299, Training Loss : 7.902406363547603; Training Accuracy: 0.30305343511450383.\n",
            "Epochs = 299, Validation Accuracy : 0.16409299168505007\n"
          ]
        },
        {
          "output_type": "stream",
          "name": "stderr",
          "text": [
            "\n"
          ]
        }
      ]
    },
    {
      "cell_type": "code",
      "metadata": {
        "id": "vrXyMDQIWwTV"
      },
      "source": [
        "def continue_seq(text):\n",
        "    tokens = tokenizer.tokenize(text)\n",
        "    w1, w2, w3 = vocabulary[tokens[-3]], vocabulary[tokens[-2]], vocabulary[tokens[-1]]\n",
        "    t = torch.IntTensor([w1, w2, w3]).to(device)\n",
        "    pred = model_emb.forward(torch.reshape(t, (1, 3)))\n",
        "    a = torch.argmax(pred, dim=1)\n",
        "    new_word = vocabulary.lookup_token(a.item())\n",
        "    new_text=text+' '+new_word\n",
        "    return new_text\n",
        "    # if new_word=='.':\n",
        "    #     return new_text\n",
        "    # else:\n",
        "    #     return continue_seq(new_text)"
      ],
      "execution_count": 20,
      "outputs": []
    },
    {
      "cell_type": "code",
      "metadata": {
        "colab": {
          "base_uri": "https://localhost:8080/"
        },
        "id": "VTXmdJ8PAIGT",
        "outputId": "42b666b4-e8cc-4b5f-c8c5-1ec1aac671e6"
      },
      "source": [
        "#start = 'i love you'\n",
        "start = 'i write you to say that'\n",
        "for i in range(15):\n",
        "    start = continue_seq(start)\n",
        "print(start)"
      ],
      "execution_count": 77,
      "outputs": [
        {
          "output_type": "stream",
          "name": "stdout",
          "text": [
            "i write you to say that i have you i have a of you and i have a of you and\n"
          ]
        },
        {
          "output_type": "stream",
          "name": "stderr",
          "text": [
            "/usr/local/lib/python3.7/dist-packages/ipykernel_launcher.py:22: UserWarning: Implicit dimension choice for softmax has been deprecated. Change the call to include dim=X as an argument.\n"
          ]
        }
      ]
    }
  ]
}